{
 "cells": [
  {
   "cell_type": "markdown",
   "metadata": {},
   "source": [
    "# Wamonyolo Studios Business Analysis  \n",
    "\n",
    "##  Overview  \n",
    "Wamonyolo Studios is planning to launch a new movie studio. To succeed, the company needs to understand what makes movies profitable. By analyzing past industry data, we can uncover insights that will guide Wamonyolo Studios toward smart, profit-driven decisions.  \n",
    "\n",
    "---\n",
    "\n",
    "##  Business Problem  \n",
    "As a new player in the movie industry, Wamonyolo faces several key questions:  \n",
    "-  How long should their films be?  \n",
    "-  Which genres are the most profitable?  \n",
    "-  Should they build their studio from scratch or acquire an existing one?  \n",
    "\n",
    "Using industry datasets and analysis, we aim to answer these questions and shape a winning strategy.  \n",
    "\n",
    "---\n",
    "\n",
    "##  Data Preparation  \n",
    "The **IMDb** dataset is the largest and most detailed. It provides:  \n",
    "- Movie runtimes  \n",
    "- Genres  \n",
    "- Release years  \n",
    "- Directors, writers, and actors  \n",
    "\n",
    "**Limitation:** It does *not* include financial data like budgets or box office revenue.  \n",
    "\n",
    "To complete the picture, we merge IMDb with financial datasets:  \n",
    "- **Box Office Mojo (BOM):** Domestic + international box office gross  \n",
    "- **The Numbers:** Budget + revenue  \n",
    "- **The Movie DB (TMDB):** Ratings, popularity, and sometimes financial data  \n",
    "\n",
    "This way, we connect *what a movie is* with *how it performs financially*.  \n",
    "\n",
    "---\n",
    "\n",
    "##  Why Merging Matters  \n",
    "- **IMDb = What the movie is** (content + creators)  \n",
    "- **Financial datasets = How the movie performed** (cost + revenue)  \n",
    "\n",
    "When combined, the data allows us to answer:  \n",
    "- Do longer films earn more or less?  \n",
    "- Which genres deliver the highest returns?  \n",
    "- Are certain directors/writers consistently successful?  \n",
    "\n",
    "---\n",
    " \n",
    "IMDb provides the richest descriptive information, but lacks financial details.  \n",
    "By merging it with BOM, The Numbers, and TMDB, Wamonyolo Studios can analyze both creativity *and* profitability—ensuring a smart, data-driven entry into the movie market.  \n"
   ]
  },
  {
   "cell_type": "markdown",
   "metadata": {},
   "source": [
    "# Import all necessary libraries"
   ]
  },
  {
   "cell_type": "code",
   "execution_count": 212,
   "metadata": {},
   "outputs": [],
   "source": [
    "# Step 1: Import all necessary libraries\n",
    "import pandas as pd\n",
    "import numpy as np\n",
    "import matplotlib.pyplot as plt\n",
    "import seaborn as sns\n",
    "from scipy import stats\n",
    "import statsmodels.api as sm\n",
    "from statsmodels.formula.api import ols"
   ]
  },
  {
   "cell_type": "markdown",
   "metadata": {},
   "source": [
    "# Reading the data "
   ]
  },
  {
   "cell_type": "code",
   "execution_count": 213,
   "metadata": {},
   "outputs": [],
   "source": [
    "# Box Office Mojo \n",
    "bom_movie_gross = pd.read_csv('zippedData/bom.movie_gross.csv.gz')\n",
    "\n",
    "# === The Numbers ===\n",
    "tn_movie_budgets = pd.read_csv('zippedData/tn.movie_budgets.csv.gz')\n",
    "\n",
    "# === The Movie Database (TMDb) ===\n",
    "tmdb_movies = pd.read_csv('zippedData/tmdb.movies.csv.gz')\n",
    "\n",
    "# === Rotten Tomatoes ===\n",
    "# === Rotten Tomatoes ===\n",
    "rt_movies = pd.read_csv('zippedData/rt.movie_info.tsv.gz', sep='\\t', encoding='latin-1')\n",
    "rt_reviews = pd.read_csv('zippedData/rt.reviews.tsv.gz', sep='\\t', encoding='latin-1')\n"
   ]
  },
  {
   "cell_type": "markdown",
   "metadata": {},
   "source": [
    "Im.db.zip is basically a compressed folder with several .tsv IMDb files inside"
   ]
  },
  {
   "cell_type": "code",
   "execution_count": 214,
   "metadata": {},
   "outputs": [
    {
     "name": "stdout",
     "output_type": "stream",
     "text": [
      "['im.db']\n"
     ]
    }
   ],
   "source": [
    "import zipfile, pandas as pd\n",
    "\n",
    "with zipfile.ZipFile('zippedData/im.db.zip') as z:\n",
    "    print(z.namelist())   #  shows you all files inside\n",
    "\n"
   ]
  },
  {
   "cell_type": "code",
   "execution_count": 215,
   "metadata": {},
   "outputs": [],
   "source": [
    "import zipfile\n",
    "\n",
    "with zipfile.ZipFile(\"zippedData/im.db.zip\", \"r\") as z:\n",
    "    z.extractall(\"zippedData/\")  # this will create 'zippedData/im.db'\n"
   ]
  },
  {
   "cell_type": "markdown",
   "metadata": {},
   "source": [
    "The file contains  a single SQLite database File called im.db,meaning you need to open it as a SQLite database"
   ]
  },
  {
   "cell_type": "code",
   "execution_count": 216,
   "metadata": {},
   "outputs": [
    {
     "name": "stdout",
     "output_type": "stream",
     "text": [
      "            name\n",
      "0   movie_basics\n",
      "1      directors\n",
      "2      known_for\n",
      "3     movie_akas\n",
      "4  movie_ratings\n",
      "5        persons\n",
      "6     principals\n",
      "7        writers\n"
     ]
    }
   ],
   "source": [
    "import sqlite3\n",
    "#import pandas as pd\n",
    "\n",
    "conn = sqlite3.connect(\"zippedData/im.db\")\n",
    "tables = pd.read_sql(\"SELECT name FROM sqlite_master WHERE type='table';\", conn)\n",
    "print(tables)\n",
    "\n"
   ]
  },
  {
   "cell_type": "markdown",
   "metadata": {},
   "source": [
    "Now loading those tables into pandas DataFrames with simple SQL queriees"
   ]
  },
  {
   "cell_type": "code",
   "execution_count": 217,
   "metadata": {},
   "outputs": [],
   "source": [
    "movie_basics = pd.read_sql(\"SELECT * FROM movie_basics;\", conn)\n",
    "\n",
    "directors = pd.read_sql(\"SELECT * FROM directors;\", conn)\n",
    "known_for = pd.read_sql(\"SELECT * FROM known_for;\", conn)\n",
    "movie_akas = pd.read_sql(\"SELECT * FROM movie_akas;\", conn)\n",
    "movie_ratings = pd.read_sql(\"SELECT * FROM movie_ratings;\", conn)\n",
    "persons = pd.read_sql(\"SELECT * FROM persons;\", conn)\n",
    "principals = pd.read_sql(\"SELECT * FROM principals;\", conn)\n",
    "writers = pd.read_sql(\"SELECT * FROM writers;\", conn)"
   ]
  },
  {
   "cell_type": "code",
   "execution_count": null,
   "metadata": {},
   "outputs": [],
   "source": []
  },
  {
   "cell_type": "markdown",
   "metadata": {},
   "source": [
    " # Data Cleaning \n",
    "We’ll clean only the datasets that are most useful for analysis (IMDb + financials). Rotten Tomatoes/TMDB can be optional later.\n"
   ]
  },
  {
   "cell_type": "markdown",
   "metadata": {},
   "source": [
    "# Datasets to Clean First\n",
    "\n",
    " 1 IMDb tables (content & metadata)\n",
    "\n",
    "movie_basics  (title, year, runtime, genres)\n",
    "\n",
    "movie_ratings  (average rating, votes)\n",
    "\n",
    "2 Box Office Mojo (bom_movie_gross)\n",
    "\n",
    "Domestic & foreign gross\n",
    "\n",
    "3 The Numbers (tn_movie_budgets)\n",
    "\n",
    "Budget + gross"
   ]
  },
  {
   "cell_type": "code",
   "execution_count": 218,
   "metadata": {},
   "outputs": [
    {
     "name": "stdout",
     "output_type": "stream",
     "text": [
      "<class 'pandas.core.frame.DataFrame'>\n",
      "RangeIndex: 146144 entries, 0 to 146143\n",
      "Data columns (total 6 columns):\n",
      " #   Column           Non-Null Count   Dtype  \n",
      "---  ------           --------------   -----  \n",
      " 0   movie_id         146144 non-null  object \n",
      " 1   primary_title    146144 non-null  object \n",
      " 2   original_title   146123 non-null  object \n",
      " 3   start_year       146144 non-null  int64  \n",
      " 4   runtime_minutes  114405 non-null  float64\n",
      " 5   genres           140736 non-null  object \n",
      "dtypes: float64(1), int64(1), object(4)\n",
      "memory usage: 6.7+ MB\n"
     ]
    }
   ],
   "source": [
    " movie_basics.info()"
   ]
  },
  {
   "cell_type": "code",
   "execution_count": 219,
   "metadata": {},
   "outputs": [
    {
     "data": {
      "text/plain": [
       "0"
      ]
     },
     "execution_count": 219,
     "metadata": {},
     "output_type": "execute_result"
    }
   ],
   "source": [
    "# Check duplicates\n",
    "movie_basics.duplicated().sum()"
   ]
  },
  {
   "cell_type": "code",
   "execution_count": 220,
   "metadata": {},
   "outputs": [
    {
     "data": {
      "text/html": [
       "<div>\n",
       "<style scoped>\n",
       "    .dataframe tbody tr th:only-of-type {\n",
       "        vertical-align: middle;\n",
       "    }\n",
       "\n",
       "    .dataframe tbody tr th {\n",
       "        vertical-align: top;\n",
       "    }\n",
       "\n",
       "    .dataframe thead th {\n",
       "        text-align: right;\n",
       "    }\n",
       "</style>\n",
       "<table border=\"1\" class=\"dataframe\">\n",
       "  <thead>\n",
       "    <tr style=\"text-align: right;\">\n",
       "      <th></th>\n",
       "      <th>movie_id</th>\n",
       "      <th>primary_title</th>\n",
       "      <th>original_title</th>\n",
       "      <th>start_year</th>\n",
       "      <th>runtime_minutes</th>\n",
       "      <th>genres</th>\n",
       "    </tr>\n",
       "  </thead>\n",
       "  <tbody>\n",
       "    <tr>\n",
       "      <th>0</th>\n",
       "      <td>tt0063540</td>\n",
       "      <td>Sunghursh</td>\n",
       "      <td>Sunghursh</td>\n",
       "      <td>2013</td>\n",
       "      <td>175.0</td>\n",
       "      <td>Action,Crime,Drama</td>\n",
       "    </tr>\n",
       "    <tr>\n",
       "      <th>1</th>\n",
       "      <td>tt0066787</td>\n",
       "      <td>One Day Before the Rainy Season</td>\n",
       "      <td>Ashad Ka Ek Din</td>\n",
       "      <td>2019</td>\n",
       "      <td>114.0</td>\n",
       "      <td>Biography,Drama</td>\n",
       "    </tr>\n",
       "    <tr>\n",
       "      <th>2</th>\n",
       "      <td>tt0069049</td>\n",
       "      <td>The Other Side of the Wind</td>\n",
       "      <td>The Other Side of the Wind</td>\n",
       "      <td>2018</td>\n",
       "      <td>122.0</td>\n",
       "      <td>Drama</td>\n",
       "    </tr>\n",
       "    <tr>\n",
       "      <th>3</th>\n",
       "      <td>tt0069204</td>\n",
       "      <td>Sabse Bada Sukh</td>\n",
       "      <td>Sabse Bada Sukh</td>\n",
       "      <td>2018</td>\n",
       "      <td>NaN</td>\n",
       "      <td>Comedy,Drama</td>\n",
       "    </tr>\n",
       "    <tr>\n",
       "      <th>4</th>\n",
       "      <td>tt0100275</td>\n",
       "      <td>The Wandering Soap Opera</td>\n",
       "      <td>La Telenovela Errante</td>\n",
       "      <td>2017</td>\n",
       "      <td>80.0</td>\n",
       "      <td>Comedy,Drama,Fantasy</td>\n",
       "    </tr>\n",
       "    <tr>\n",
       "      <th>...</th>\n",
       "      <td>...</td>\n",
       "      <td>...</td>\n",
       "      <td>...</td>\n",
       "      <td>...</td>\n",
       "      <td>...</td>\n",
       "      <td>...</td>\n",
       "    </tr>\n",
       "    <tr>\n",
       "      <th>146139</th>\n",
       "      <td>tt9916538</td>\n",
       "      <td>Kuambil Lagi Hatiku</td>\n",
       "      <td>Kuambil Lagi Hatiku</td>\n",
       "      <td>2019</td>\n",
       "      <td>123.0</td>\n",
       "      <td>Drama</td>\n",
       "    </tr>\n",
       "    <tr>\n",
       "      <th>146140</th>\n",
       "      <td>tt9916622</td>\n",
       "      <td>Rodolpho Teóphilo - O Legado de um Pioneiro</td>\n",
       "      <td>Rodolpho Teóphilo - O Legado de um Pioneiro</td>\n",
       "      <td>2015</td>\n",
       "      <td>NaN</td>\n",
       "      <td>Documentary</td>\n",
       "    </tr>\n",
       "    <tr>\n",
       "      <th>146141</th>\n",
       "      <td>tt9916706</td>\n",
       "      <td>Dankyavar Danka</td>\n",
       "      <td>Dankyavar Danka</td>\n",
       "      <td>2013</td>\n",
       "      <td>NaN</td>\n",
       "      <td>Comedy</td>\n",
       "    </tr>\n",
       "    <tr>\n",
       "      <th>146142</th>\n",
       "      <td>tt9916730</td>\n",
       "      <td>6 Gunn</td>\n",
       "      <td>6 Gunn</td>\n",
       "      <td>2017</td>\n",
       "      <td>116.0</td>\n",
       "      <td>None</td>\n",
       "    </tr>\n",
       "    <tr>\n",
       "      <th>146143</th>\n",
       "      <td>tt9916754</td>\n",
       "      <td>Chico Albuquerque - Revelações</td>\n",
       "      <td>Chico Albuquerque - Revelações</td>\n",
       "      <td>2013</td>\n",
       "      <td>NaN</td>\n",
       "      <td>Documentary</td>\n",
       "    </tr>\n",
       "  </tbody>\n",
       "</table>\n",
       "<p>146144 rows × 6 columns</p>\n",
       "</div>"
      ],
      "text/plain": [
       "         movie_id                                primary_title  \\\n",
       "0       tt0063540                                    Sunghursh   \n",
       "1       tt0066787              One Day Before the Rainy Season   \n",
       "2       tt0069049                   The Other Side of the Wind   \n",
       "3       tt0069204                              Sabse Bada Sukh   \n",
       "4       tt0100275                     The Wandering Soap Opera   \n",
       "...           ...                                          ...   \n",
       "146139  tt9916538                          Kuambil Lagi Hatiku   \n",
       "146140  tt9916622  Rodolpho Teóphilo - O Legado de um Pioneiro   \n",
       "146141  tt9916706                              Dankyavar Danka   \n",
       "146142  tt9916730                                       6 Gunn   \n",
       "146143  tt9916754               Chico Albuquerque - Revelações   \n",
       "\n",
       "                                     original_title  start_year  \\\n",
       "0                                         Sunghursh        2013   \n",
       "1                                   Ashad Ka Ek Din        2019   \n",
       "2                        The Other Side of the Wind        2018   \n",
       "3                                   Sabse Bada Sukh        2018   \n",
       "4                             La Telenovela Errante        2017   \n",
       "...                                             ...         ...   \n",
       "146139                          Kuambil Lagi Hatiku        2019   \n",
       "146140  Rodolpho Teóphilo - O Legado de um Pioneiro        2015   \n",
       "146141                              Dankyavar Danka        2013   \n",
       "146142                                       6 Gunn        2017   \n",
       "146143               Chico Albuquerque - Revelações        2013   \n",
       "\n",
       "        runtime_minutes                genres  \n",
       "0                 175.0    Action,Crime,Drama  \n",
       "1                 114.0       Biography,Drama  \n",
       "2                 122.0                 Drama  \n",
       "3                   NaN          Comedy,Drama  \n",
       "4                  80.0  Comedy,Drama,Fantasy  \n",
       "...                 ...                   ...  \n",
       "146139            123.0                 Drama  \n",
       "146140              NaN           Documentary  \n",
       "146141              NaN                Comedy  \n",
       "146142            116.0                  None  \n",
       "146143              NaN           Documentary  \n",
       "\n",
       "[146144 rows x 6 columns]"
      ]
     },
     "execution_count": 220,
     "metadata": {},
     "output_type": "execute_result"
    }
   ],
   "source": [
    "# Convert datatypes\n",
    "\n",
    "movie_basics = pd.read_sql(\"SELECT * FROM movie_basics;\", conn)\n",
    "movie_basics\n"
   ]
  },
  {
   "cell_type": "markdown",
   "metadata": {},
   "source": [
    "Step 1\n",
    "\n",
    "Extract only the columns that we need "
   ]
  },
  {
   "cell_type": "code",
   "execution_count": 221,
   "metadata": {},
   "outputs": [],
   "source": [
    "runtime_df = movie_basics[['primary_title', 'start_year', 'runtime_minutes']]"
   ]
  },
  {
   "cell_type": "markdown",
   "metadata": {},
   "source": [
    " \n",
    "movie_basics has many columns (genres, tconst, etc.), but for runtime analysis we only care about:\n",
    "\n",
    "primary_title- movie name (for identification & merging later)\n",
    "\n",
    "start_year - release year (to filter by time & merge with financial datasets)\n",
    "\n",
    "runtime_minutes - our main feature of interest (movie length)\n"
   ]
  },
  {
   "cell_type": "markdown",
   "metadata": {},
   "source": [
    "# Step 2 : \n",
    "\n",
    "Remove movies that haven't been released yet "
   ]
  },
  {
   "cell_type": "code",
   "execution_count": 222,
   "metadata": {},
   "outputs": [],
   "source": [
    "runtime_df = runtime_df[runtime_df['start_year'] < 2025]"
   ]
  },
  {
   "cell_type": "markdown",
   "metadata": {},
   "source": [
    "\n",
    "Some rows have future release years (e.g., 2023, 2025).\n",
    "\n",
    "Since we only analyze historical performance, those rows would give misleading results.\n",
    "\n",
    "Keeps dataset consistent with financial data (which only has past films)."
   ]
  },
  {
   "cell_type": "markdown",
   "metadata": {},
   "source": [
    " Step 3\n",
    "\n",
    "Drop row with missing runtimes "
   ]
  },
  {
   "cell_type": "code",
   "execution_count": 223,
   "metadata": {},
   "outputs": [],
   "source": [
    "runtime_df = runtime_df.dropna(axis=0, subset=['runtime_minutes'])"
   ]
  },
  {
   "cell_type": "markdown",
   "metadata": {},
   "source": [
    "\n",
    "Missing runtimes = useless for analysis.\n",
    "\n",
    "Dropping them ensures we don’t get NaN values messing up plots/stats."
   ]
  },
  {
   "cell_type": "markdown",
   "metadata": {},
   "source": [
    " Step 4\n",
    "Inspect the cleaned result"
   ]
  },
  {
   "cell_type": "code",
   "execution_count": 224,
   "metadata": {},
   "outputs": [
    {
     "name": "stdout",
     "output_type": "stream",
     "text": [
      "(114405, 3)\n",
      "primary_title      0\n",
      "start_year         0\n",
      "runtime_minutes    0\n",
      "dtype: int64\n",
      "<class 'pandas.core.frame.DataFrame'>\n",
      "Int64Index: 114405 entries, 0 to 146142\n",
      "Data columns (total 3 columns):\n",
      " #   Column           Non-Null Count   Dtype  \n",
      "---  ------           --------------   -----  \n",
      " 0   primary_title    114405 non-null  object \n",
      " 1   start_year       114405 non-null  int64  \n",
      " 2   runtime_minutes  114405 non-null  float64\n",
      "dtypes: float64(1), int64(1), object(1)\n",
      "memory usage: 3.5+ MB\n"
     ]
    },
    {
     "data": {
      "text/html": [
       "<div>\n",
       "<style scoped>\n",
       "    .dataframe tbody tr th:only-of-type {\n",
       "        vertical-align: middle;\n",
       "    }\n",
       "\n",
       "    .dataframe tbody tr th {\n",
       "        vertical-align: top;\n",
       "    }\n",
       "\n",
       "    .dataframe thead th {\n",
       "        text-align: right;\n",
       "    }\n",
       "</style>\n",
       "<table border=\"1\" class=\"dataframe\">\n",
       "  <thead>\n",
       "    <tr style=\"text-align: right;\">\n",
       "      <th></th>\n",
       "      <th>start_year</th>\n",
       "      <th>runtime_minutes</th>\n",
       "    </tr>\n",
       "  </thead>\n",
       "  <tbody>\n",
       "    <tr>\n",
       "      <th>count</th>\n",
       "      <td>114405.000000</td>\n",
       "      <td>114405.000000</td>\n",
       "    </tr>\n",
       "    <tr>\n",
       "      <th>mean</th>\n",
       "      <td>2014.396801</td>\n",
       "      <td>86.187247</td>\n",
       "    </tr>\n",
       "    <tr>\n",
       "      <th>std</th>\n",
       "      <td>2.637480</td>\n",
       "      <td>166.360590</td>\n",
       "    </tr>\n",
       "    <tr>\n",
       "      <th>min</th>\n",
       "      <td>2010.000000</td>\n",
       "      <td>1.000000</td>\n",
       "    </tr>\n",
       "    <tr>\n",
       "      <th>25%</th>\n",
       "      <td>2012.000000</td>\n",
       "      <td>70.000000</td>\n",
       "    </tr>\n",
       "    <tr>\n",
       "      <th>50%</th>\n",
       "      <td>2014.000000</td>\n",
       "      <td>87.000000</td>\n",
       "    </tr>\n",
       "    <tr>\n",
       "      <th>75%</th>\n",
       "      <td>2017.000000</td>\n",
       "      <td>99.000000</td>\n",
       "    </tr>\n",
       "    <tr>\n",
       "      <th>max</th>\n",
       "      <td>2022.000000</td>\n",
       "      <td>51420.000000</td>\n",
       "    </tr>\n",
       "  </tbody>\n",
       "</table>\n",
       "</div>"
      ],
      "text/plain": [
       "          start_year  runtime_minutes\n",
       "count  114405.000000    114405.000000\n",
       "mean     2014.396801        86.187247\n",
       "std         2.637480       166.360590\n",
       "min      2010.000000         1.000000\n",
       "25%      2012.000000        70.000000\n",
       "50%      2014.000000        87.000000\n",
       "75%      2017.000000        99.000000\n",
       "max      2022.000000     51420.000000"
      ]
     },
     "execution_count": 224,
     "metadata": {},
     "output_type": "execute_result"
    }
   ],
   "source": [
    "print(runtime_df.shape)     # how many rows/columns after cleaning\n",
    "print(runtime_df.isna().sum())  # check if any nulls remain\n",
    "runtime_df.head()           # preview first 5 rows\n",
    "runtime_df.info()           # check datatypes\n",
    "runtime_df.describe()       # quick stats (mean, min, max runtime)\n"
   ]
  },
  {
   "cell_type": "markdown",
   "metadata": {},
   "source": [
    "\n",
    "shape - see how much data we have left after cleaning.\n",
    "\n",
    "isna() - make sure runtimes are fully clean.\n",
    "\n",
    "head() - sanity check if columns look correct.\n",
    "\n",
    "info() - confirm datatypes (start_year should be int, runtime_minutes int/float).\n",
    "\n",
    "describe() - see runtime distribution (are there very short/long outliers?)."
   ]
  },
  {
   "cell_type": "markdown",
   "metadata": {},
   "source": [
    "# Now we’re prepping The Numbers and TMDb release dates so they can align with IMDb’s start_year"
   ]
  },
  {
   "cell_type": "code",
   "execution_count": 225,
   "metadata": {},
   "outputs": [
    {
     "data": {
      "text/html": [
       "<div>\n",
       "<style scoped>\n",
       "    .dataframe tbody tr th:only-of-type {\n",
       "        vertical-align: middle;\n",
       "    }\n",
       "\n",
       "    .dataframe tbody tr th {\n",
       "        vertical-align: top;\n",
       "    }\n",
       "\n",
       "    .dataframe thead th {\n",
       "        text-align: right;\n",
       "    }\n",
       "</style>\n",
       "<table border=\"1\" class=\"dataframe\">\n",
       "  <thead>\n",
       "    <tr style=\"text-align: right;\">\n",
       "      <th></th>\n",
       "      <th>id</th>\n",
       "      <th>release_date</th>\n",
       "      <th>movie</th>\n",
       "      <th>production_budget</th>\n",
       "      <th>domestic_gross</th>\n",
       "      <th>worldwide_gross</th>\n",
       "    </tr>\n",
       "  </thead>\n",
       "  <tbody>\n",
       "    <tr>\n",
       "      <th>0</th>\n",
       "      <td>1</td>\n",
       "      <td>Dec 18, 2009</td>\n",
       "      <td>Avatar</td>\n",
       "      <td>$425,000,000</td>\n",
       "      <td>$760,507,625</td>\n",
       "      <td>$2,776,345,279</td>\n",
       "    </tr>\n",
       "    <tr>\n",
       "      <th>1</th>\n",
       "      <td>2</td>\n",
       "      <td>May 20, 2011</td>\n",
       "      <td>Pirates of the Caribbean: On Stranger Tides</td>\n",
       "      <td>$410,600,000</td>\n",
       "      <td>$241,063,875</td>\n",
       "      <td>$1,045,663,875</td>\n",
       "    </tr>\n",
       "    <tr>\n",
       "      <th>2</th>\n",
       "      <td>3</td>\n",
       "      <td>Jun 7, 2019</td>\n",
       "      <td>Dark Phoenix</td>\n",
       "      <td>$350,000,000</td>\n",
       "      <td>$42,762,350</td>\n",
       "      <td>$149,762,350</td>\n",
       "    </tr>\n",
       "    <tr>\n",
       "      <th>3</th>\n",
       "      <td>4</td>\n",
       "      <td>May 1, 2015</td>\n",
       "      <td>Avengers: Age of Ultron</td>\n",
       "      <td>$330,600,000</td>\n",
       "      <td>$459,005,868</td>\n",
       "      <td>$1,403,013,963</td>\n",
       "    </tr>\n",
       "    <tr>\n",
       "      <th>4</th>\n",
       "      <td>5</td>\n",
       "      <td>Dec 15, 2017</td>\n",
       "      <td>Star Wars Ep. VIII: The Last Jedi</td>\n",
       "      <td>$317,000,000</td>\n",
       "      <td>$620,181,382</td>\n",
       "      <td>$1,316,721,747</td>\n",
       "    </tr>\n",
       "  </tbody>\n",
       "</table>\n",
       "</div>"
      ],
      "text/plain": [
       "   id  release_date                                        movie  \\\n",
       "0   1  Dec 18, 2009                                       Avatar   \n",
       "1   2  May 20, 2011  Pirates of the Caribbean: On Stranger Tides   \n",
       "2   3   Jun 7, 2019                                 Dark Phoenix   \n",
       "3   4   May 1, 2015                      Avengers: Age of Ultron   \n",
       "4   5  Dec 15, 2017            Star Wars Ep. VIII: The Last Jedi   \n",
       "\n",
       "  production_budget domestic_gross worldwide_gross  \n",
       "0      $425,000,000   $760,507,625  $2,776,345,279  \n",
       "1      $410,600,000   $241,063,875  $1,045,663,875  \n",
       "2      $350,000,000    $42,762,350    $149,762,350  \n",
       "3      $330,600,000   $459,005,868  $1,403,013,963  \n",
       "4      $317,000,000   $620,181,382  $1,316,721,747  "
      ]
     },
     "execution_count": 225,
     "metadata": {},
     "output_type": "execute_result"
    }
   ],
   "source": [
    "tn_movie_budgets = pd.read_csv('zippedData/tn.movie_budgets.csv.gz')\n",
    "tn_movie_budgets.head()"
   ]
  },
  {
   "cell_type": "code",
   "execution_count": 226,
   "metadata": {},
   "outputs": [
    {
     "name": "stdout",
     "output_type": "stream",
     "text": [
      "<class 'pandas.core.frame.DataFrame'>\n",
      "RangeIndex: 5782 entries, 0 to 5781\n",
      "Data columns (total 6 columns):\n",
      " #   Column             Non-Null Count  Dtype \n",
      "---  ------             --------------  ----- \n",
      " 0   id                 5782 non-null   int64 \n",
      " 1   release_date       5782 non-null   object\n",
      " 2   movie              5782 non-null   object\n",
      " 3   production_budget  5782 non-null   object\n",
      " 4   domestic_gross     5782 non-null   object\n",
      " 5   worldwide_gross    5782 non-null   object\n",
      "dtypes: int64(1), object(5)\n",
      "memory usage: 271.2+ KB\n"
     ]
    }
   ],
   "source": [
    "tn_movie_budgets.info()"
   ]
  },
  {
   "cell_type": "code",
   "execution_count": 227,
   "metadata": {},
   "outputs": [
    {
     "data": {
      "text/html": [
       "<div>\n",
       "<style scoped>\n",
       "    .dataframe tbody tr th:only-of-type {\n",
       "        vertical-align: middle;\n",
       "    }\n",
       "\n",
       "    .dataframe tbody tr th {\n",
       "        vertical-align: top;\n",
       "    }\n",
       "\n",
       "    .dataframe thead th {\n",
       "        text-align: right;\n",
       "    }\n",
       "</style>\n",
       "<table border=\"1\" class=\"dataframe\">\n",
       "  <thead>\n",
       "    <tr style=\"text-align: right;\">\n",
       "      <th></th>\n",
       "      <th>Unnamed: 0</th>\n",
       "      <th>genre_ids</th>\n",
       "      <th>id</th>\n",
       "      <th>original_language</th>\n",
       "      <th>original_title</th>\n",
       "      <th>popularity</th>\n",
       "      <th>release_date</th>\n",
       "      <th>title</th>\n",
       "      <th>vote_average</th>\n",
       "      <th>vote_count</th>\n",
       "    </tr>\n",
       "  </thead>\n",
       "  <tbody>\n",
       "    <tr>\n",
       "      <th>0</th>\n",
       "      <td>0</td>\n",
       "      <td>[12, 14, 10751]</td>\n",
       "      <td>12444</td>\n",
       "      <td>en</td>\n",
       "      <td>Harry Potter and the Deathly Hallows: Part 1</td>\n",
       "      <td>33.533</td>\n",
       "      <td>2010-11-19</td>\n",
       "      <td>Harry Potter and the Deathly Hallows: Part 1</td>\n",
       "      <td>7.7</td>\n",
       "      <td>10788</td>\n",
       "    </tr>\n",
       "    <tr>\n",
       "      <th>1</th>\n",
       "      <td>1</td>\n",
       "      <td>[14, 12, 16, 10751]</td>\n",
       "      <td>10191</td>\n",
       "      <td>en</td>\n",
       "      <td>How to Train Your Dragon</td>\n",
       "      <td>28.734</td>\n",
       "      <td>2010-03-26</td>\n",
       "      <td>How to Train Your Dragon</td>\n",
       "      <td>7.7</td>\n",
       "      <td>7610</td>\n",
       "    </tr>\n",
       "    <tr>\n",
       "      <th>2</th>\n",
       "      <td>2</td>\n",
       "      <td>[12, 28, 878]</td>\n",
       "      <td>10138</td>\n",
       "      <td>en</td>\n",
       "      <td>Iron Man 2</td>\n",
       "      <td>28.515</td>\n",
       "      <td>2010-05-07</td>\n",
       "      <td>Iron Man 2</td>\n",
       "      <td>6.8</td>\n",
       "      <td>12368</td>\n",
       "    </tr>\n",
       "    <tr>\n",
       "      <th>3</th>\n",
       "      <td>3</td>\n",
       "      <td>[16, 35, 10751]</td>\n",
       "      <td>862</td>\n",
       "      <td>en</td>\n",
       "      <td>Toy Story</td>\n",
       "      <td>28.005</td>\n",
       "      <td>1995-11-22</td>\n",
       "      <td>Toy Story</td>\n",
       "      <td>7.9</td>\n",
       "      <td>10174</td>\n",
       "    </tr>\n",
       "    <tr>\n",
       "      <th>4</th>\n",
       "      <td>4</td>\n",
       "      <td>[28, 878, 12]</td>\n",
       "      <td>27205</td>\n",
       "      <td>en</td>\n",
       "      <td>Inception</td>\n",
       "      <td>27.920</td>\n",
       "      <td>2010-07-16</td>\n",
       "      <td>Inception</td>\n",
       "      <td>8.3</td>\n",
       "      <td>22186</td>\n",
       "    </tr>\n",
       "  </tbody>\n",
       "</table>\n",
       "</div>"
      ],
      "text/plain": [
       "   Unnamed: 0            genre_ids     id original_language  \\\n",
       "0           0      [12, 14, 10751]  12444                en   \n",
       "1           1  [14, 12, 16, 10751]  10191                en   \n",
       "2           2        [12, 28, 878]  10138                en   \n",
       "3           3      [16, 35, 10751]    862                en   \n",
       "4           4        [28, 878, 12]  27205                en   \n",
       "\n",
       "                                 original_title  popularity release_date  \\\n",
       "0  Harry Potter and the Deathly Hallows: Part 1      33.533   2010-11-19   \n",
       "1                      How to Train Your Dragon      28.734   2010-03-26   \n",
       "2                                    Iron Man 2      28.515   2010-05-07   \n",
       "3                                     Toy Story      28.005   1995-11-22   \n",
       "4                                     Inception      27.920   2010-07-16   \n",
       "\n",
       "                                          title  vote_average  vote_count  \n",
       "0  Harry Potter and the Deathly Hallows: Part 1           7.7       10788  \n",
       "1                      How to Train Your Dragon           7.7        7610  \n",
       "2                                    Iron Man 2           6.8       12368  \n",
       "3                                     Toy Story           7.9       10174  \n",
       "4                                     Inception           8.3       22186  "
      ]
     },
     "execution_count": 227,
     "metadata": {},
     "output_type": "execute_result"
    }
   ],
   "source": [
    "#  The Movie Database (TMDb) \n",
    "tmdb_movies = pd.read_csv('zippedData/tmdb.movies.csv.gz')\n",
    "tmdb_movies.head()"
   ]
  },
  {
   "cell_type": "code",
   "execution_count": 228,
   "metadata": {},
   "outputs": [
    {
     "name": "stdout",
     "output_type": "stream",
     "text": [
      "<class 'pandas.core.frame.DataFrame'>\n",
      "RangeIndex: 26517 entries, 0 to 26516\n",
      "Data columns (total 10 columns):\n",
      " #   Column             Non-Null Count  Dtype  \n",
      "---  ------             --------------  -----  \n",
      " 0   Unnamed: 0         26517 non-null  int64  \n",
      " 1   genre_ids          26517 non-null  object \n",
      " 2   id                 26517 non-null  int64  \n",
      " 3   original_language  26517 non-null  object \n",
      " 4   original_title     26517 non-null  object \n",
      " 5   popularity         26517 non-null  float64\n",
      " 6   release_date       26517 non-null  object \n",
      " 7   title              26517 non-null  object \n",
      " 8   vote_average       26517 non-null  float64\n",
      " 9   vote_count         26517 non-null  int64  \n",
      "dtypes: float64(2), int64(3), object(5)\n",
      "memory usage: 2.0+ MB\n"
     ]
    }
   ],
   "source": [
    "tmdb_movies.info()"
   ]
  },
  {
   "cell_type": "markdown",
   "metadata": {},
   "source": [
    "Step 1\n",
    "\n",
    "Convert release_date into datetime "
   ]
  },
  {
   "cell_type": "code",
   "execution_count": 229,
   "metadata": {},
   "outputs": [],
   "source": [
    "tn_movie_budgets['release_date'] = pd.to_datetime(tn_movie_budgets['release_date'])\n",
    "tmdb_movies['release_date'] = pd.to_datetime(tmdb_movies['release_date'])\n"
   ]
  },
  {
   "cell_type": "markdown",
   "metadata": {},
   "source": [
    "\n",
    "Dates are often read in as strings → can’t extract year/month directly.\n",
    "\n",
    "pd.to_datetime() standardizes them into true datetime objects."
   ]
  },
  {
   "cell_type": "markdown",
   "metadata": {},
   "source": [
    " step 2 \n",
    " \n",
    " Extract release year (to match IMDb format)"
   ]
  },
  {
   "cell_type": "code",
   "execution_count": 230,
   "metadata": {},
   "outputs": [],
   "source": [
    "tn_movie_budgets['release_year'] = tn_movie_budgets['release_date'].dt.year\n",
    "tmdb_movies['release_year'] = tmdb_movies['release_date'].dt.year\n"
   ]
  },
  {
   "cell_type": "markdown",
   "metadata": {},
   "source": [
    "\n",
    "IMDb uses just the year (start_year).\n",
    "\n",
    "To merge datasets later, we need the same format (year only)."
   ]
  },
  {
   "cell_type": "markdown",
   "metadata": {},
   "source": [
    "Step 3: \n",
    "Extract release month (both numeric & string)"
   ]
  },
  {
   "cell_type": "code",
   "execution_count": 231,
   "metadata": {},
   "outputs": [],
   "source": [
    "tn_movie_budgets['month_dt'] = tn_movie_budgets['release_date'].dt.month  # numeric month (1–12)\n",
    "tn_movie_budgets['month'] = tn_movie_budgets['release_date'].dt.month     # duplicate here, can adjust if you want month names\n"
   ]
  },
  {
   "cell_type": "markdown",
   "metadata": {},
   "source": [
    "\n",
    "Month helps analyze seasonality (e.g., summer blockbusters, holiday releases).\n",
    "\n",
    "month_dt → numeric (for calculations).\n",
    "\n",
    "month → could later be turned into month names for plots.\n",
    "\n",
    "(Small note: you might want dt.month_name() if you prefer full names like “July”)"
   ]
  },
  {
   "cell_type": "markdown",
   "metadata": {},
   "source": [
    " Step 4:\n",
    "Drop raw release_date"
   ]
  },
  {
   "cell_type": "code",
   "execution_count": 232,
   "metadata": {},
   "outputs": [],
   "source": [
    "tn_movie_budgets = tn_movie_budgets.drop(columns=['release_date'])\n"
   ]
  },
  {
   "cell_type": "markdown",
   "metadata": {},
   "source": [
    "\n",
    "\n",
    "We’ve extracted all useful parts (year + month).\n",
    "\n",
    "Dropping avoids duplication and keeps dataframe cleaner."
   ]
  },
  {
   "cell_type": "markdown",
   "metadata": {},
   "source": [
    " Step 5\n",
    "Inspect"
   ]
  },
  {
   "cell_type": "code",
   "execution_count": 233,
   "metadata": {},
   "outputs": [
    {
     "name": "stdout",
     "output_type": "stream",
     "text": [
      "                                         movie  release_year  month_dt  month\n",
      "0                                       Avatar          2009        12     12\n",
      "1  Pirates of the Caribbean: On Stranger Tides          2011         5      5\n",
      "2                                 Dark Phoenix          2019         6      6\n",
      "3                      Avengers: Age of Ultron          2015         5      5\n",
      "4            Star Wars Ep. VIII: The Last Jedi          2017        12     12\n",
      "                                          title  release_year\n",
      "0  Harry Potter and the Deathly Hallows: Part 1          2010\n",
      "1                      How to Train Your Dragon          2010\n",
      "2                                    Iron Man 2          2010\n",
      "3                                     Toy Story          1995\n",
      "4                                     Inception          2010\n"
     ]
    }
   ],
   "source": [
    "print(tn_movie_budgets[['movie','release_year','month_dt','month']].head())\n",
    "print(tmdb_movies[['title','release_year']].head())\n"
   ]
  },
  {
   "cell_type": "markdown",
   "metadata": {},
   "source": [
    "# Now you’re cleaning up the financial columns from The Numbers so they’re ready for calculations and plots. "
   ]
  },
  {
   "cell_type": "markdown",
   "metadata": {},
   "source": [
    " Step 1: Identify the money columns"
   ]
  },
  {
   "cell_type": "code",
   "execution_count": 234,
   "metadata": {},
   "outputs": [],
   "source": [
    "cols = ['production_budget', 'domestic_gross', 'worldwide_gross']\n"
   ]
  },
  {
   "cell_type": "markdown",
   "metadata": {},
   "source": [
    "\n",
    "These are stored as strings with $ and commas (e.g.,       \"$100,000,000\").\n",
    "We can’t do math or plots with strings → must convert to numbers."
   ]
  },
  {
   "cell_type": "markdown",
   "metadata": {},
   "source": [
    "Step 2: Remove $ and ,"
   ]
  },
  {
   "cell_type": "code",
   "execution_count": 235,
   "metadata": {},
   "outputs": [],
   "source": [
    "tn_movie_budgets[cols] = tn_movie_budgets[cols].replace('[\\$,]', '', regex=True)\n"
   ]
  },
  {
   "cell_type": "markdown",
   "metadata": {},
   "source": [
    "\n",
    "\n",
    "[\\$,] means: match dollar signs $ or commas ,.\n",
    "\n",
    ".replace(..., regex=True) strips them out → \"100000000\"."
   ]
  },
  {
   "cell_type": "markdown",
   "metadata": {},
   "source": [
    "Step 3: Convert to integers"
   ]
  },
  {
   "cell_type": "code",
   "execution_count": 236,
   "metadata": {},
   "outputs": [],
   "source": [
    "tn_movie_budgets[cols] = tn_movie_budgets[cols].astype('int64')\n"
   ]
  },
  {
   "cell_type": "markdown",
   "metadata": {},
   "source": [
    "\n",
    "\n",
    "Converts cleaned strings into integers so we can:\n",
    "\n",
    "Calculate profits/losses\n",
    "\n",
    "Plot histograms, scatterplots\n",
    "\n",
    "Run regressions"
   ]
  },
  {
   "cell_type": "markdown",
   "metadata": {},
   "source": [
    "Step 4 Inspect the result"
   ]
  },
  {
   "cell_type": "code",
   "execution_count": 237,
   "metadata": {},
   "outputs": [
    {
     "name": "stdout",
     "output_type": "stream",
     "text": [
      "production_budget    int64\n",
      "domestic_gross       int64\n",
      "worldwide_gross      int64\n",
      "dtype: object\n"
     ]
    },
    {
     "data": {
      "text/html": [
       "<div>\n",
       "<style scoped>\n",
       "    .dataframe tbody tr th:only-of-type {\n",
       "        vertical-align: middle;\n",
       "    }\n",
       "\n",
       "    .dataframe tbody tr th {\n",
       "        vertical-align: top;\n",
       "    }\n",
       "\n",
       "    .dataframe thead th {\n",
       "        text-align: right;\n",
       "    }\n",
       "</style>\n",
       "<table border=\"1\" class=\"dataframe\">\n",
       "  <thead>\n",
       "    <tr style=\"text-align: right;\">\n",
       "      <th></th>\n",
       "      <th>id</th>\n",
       "      <th>movie</th>\n",
       "      <th>production_budget</th>\n",
       "      <th>domestic_gross</th>\n",
       "      <th>worldwide_gross</th>\n",
       "      <th>release_year</th>\n",
       "      <th>month_dt</th>\n",
       "      <th>month</th>\n",
       "    </tr>\n",
       "  </thead>\n",
       "  <tbody>\n",
       "    <tr>\n",
       "      <th>0</th>\n",
       "      <td>1</td>\n",
       "      <td>Avatar</td>\n",
       "      <td>425000000</td>\n",
       "      <td>760507625</td>\n",
       "      <td>2776345279</td>\n",
       "      <td>2009</td>\n",
       "      <td>12</td>\n",
       "      <td>12</td>\n",
       "    </tr>\n",
       "    <tr>\n",
       "      <th>1</th>\n",
       "      <td>2</td>\n",
       "      <td>Pirates of the Caribbean: On Stranger Tides</td>\n",
       "      <td>410600000</td>\n",
       "      <td>241063875</td>\n",
       "      <td>1045663875</td>\n",
       "      <td>2011</td>\n",
       "      <td>5</td>\n",
       "      <td>5</td>\n",
       "    </tr>\n",
       "    <tr>\n",
       "      <th>2</th>\n",
       "      <td>3</td>\n",
       "      <td>Dark Phoenix</td>\n",
       "      <td>350000000</td>\n",
       "      <td>42762350</td>\n",
       "      <td>149762350</td>\n",
       "      <td>2019</td>\n",
       "      <td>6</td>\n",
       "      <td>6</td>\n",
       "    </tr>\n",
       "  </tbody>\n",
       "</table>\n",
       "</div>"
      ],
      "text/plain": [
       "   id                                        movie  production_budget  \\\n",
       "0   1                                       Avatar          425000000   \n",
       "1   2  Pirates of the Caribbean: On Stranger Tides          410600000   \n",
       "2   3                                 Dark Phoenix          350000000   \n",
       "\n",
       "   domestic_gross  worldwide_gross  release_year  month_dt  month  \n",
       "0       760507625       2776345279          2009        12     12  \n",
       "1       241063875       1045663875          2011         5      5  \n",
       "2        42762350        149762350          2019         6      6  "
      ]
     },
     "execution_count": 237,
     "metadata": {},
     "output_type": "execute_result"
    }
   ],
   "source": [
    "print(tn_movie_budgets[cols].dtypes)   # confirm int64\n",
    "tn_movie_budgets[cols].describe()      # check ranges, averages, etc.\n",
    "tn_movie_budgets.head(3)               # preview cleaned values\n"
   ]
  },
  {
   "cell_type": "markdown",
   "metadata": {},
   "source": [
    "\n",
    "\n",
    "describe() shows if values are realistic (e.g., budgets in millions, not billions)."
   ]
  },
  {
   "cell_type": "markdown",
   "metadata": {},
   "source": [
    "# Standardizing titles across all datasets to improve your merge success rate"
   ]
  },
  {
   "cell_type": "markdown",
   "metadata": {},
   "source": [
    " Step 1: Apply .str.title() to titles"
   ]
  },
  {
   "cell_type": "code",
   "execution_count": 238,
   "metadata": {},
   "outputs": [],
   "source": [
    "runtime_df['primary_title'] = runtime_df['primary_title'].str.title()\n",
    "tn_movie_budgets['movie'] = tn_movie_budgets['movie'].str.title()\n",
    "bom_movie_gross['title'] = bom_movie_gross['title'].str.title()\n",
    "tmdb_movies['title'] = tmdb_movies['title'].str.title()\n"
   ]
  },
  {
   "cell_type": "markdown",
   "metadata": {},
   "source": [
    "\n",
    "In different datasets, titles may appear as \"avatar\", \"Avatar\", or \"AVATAR\".\n",
    "\n",
    ".str.title() converts them all to \"Avatar\" → making matches more consistent when merging."
   ]
  },
  {
   "cell_type": "markdown",
   "metadata": {},
   "source": [
    " Step 2: Inspect for consistency"
   ]
  },
  {
   "cell_type": "code",
   "execution_count": 239,
   "metadata": {},
   "outputs": [
    {
     "name": "stdout",
     "output_type": "stream",
     "text": [
      "0                          Sunghursh\n",
      "1    One Day Before The Rainy Season\n",
      "2         The Other Side Of The Wind\n",
      "4           The Wandering Soap Opera\n",
      "5                        A Thin Life\n",
      "Name: primary_title, dtype: object\n",
      "0                                         Avatar\n",
      "1    Pirates Of The Caribbean: On Stranger Tides\n",
      "2                                   Dark Phoenix\n",
      "3                        Avengers: Age Of Ultron\n",
      "4              Star Wars Ep. Viii: The Last Jedi\n",
      "Name: movie, dtype: object\n",
      "0                                    Toy Story 3\n",
      "1                     Alice In Wonderland (2010)\n",
      "2    Harry Potter And The Deathly Hallows Part 1\n",
      "3                                      Inception\n",
      "4                            Shrek Forever After\n",
      "Name: title, dtype: object\n",
      "0    Harry Potter And The Deathly Hallows: Part 1\n",
      "1                        How To Train Your Dragon\n",
      "2                                      Iron Man 2\n",
      "3                                       Toy Story\n",
      "4                                       Inception\n",
      "Name: title, dtype: object\n"
     ]
    }
   ],
   "source": [
    "print(runtime_df['primary_title'].head(5))\n",
    "print(tn_movie_budgets['movie'].head(5))\n",
    "print(bom_movie_gross['title'].head(5))\n",
    "print(tmdb_movies['title'].head(5))\n"
   ]
  },
  {
   "cell_type": "markdown",
   "metadata": {},
   "source": [
    "# Now you’re adding profit margin columns so you can analyze which movies actually made money relative to their costs.(tn_movie_budgets)"
   ]
  },
  {
   "cell_type": "markdown",
   "metadata": {},
   "source": [
    " Step 1: Domestic profit margin"
   ]
  },
  {
   "cell_type": "code",
   "execution_count": 240,
   "metadata": {},
   "outputs": [],
   "source": [
    "tn_movie_budgets['dom_profit_margin'] = (\n",
    "    (tn_movie_budgets['domestic_gross'] - tn_movie_budgets['production_budget'])\n",
    "    / tn_movie_budgets['domestic_gross']\n",
    ") * 100\n"
   ]
  },
  {
   "cell_type": "markdown",
   "metadata": {},
   "source": [
    "Formula:\n",
    "\n",
    "Profit Margin\n",
    "=\n",
    "Revenue\n",
    "−\n",
    "Cost\n",
    "Revenue\n",
    "×\n",
    "100\n",
    "Profit Margin=\n",
    "Revenue\n",
    "Revenue−Cost\n",
    "\t​\n",
    "\n",
    "×100\n",
    "\n",
    "Tells you what % of revenue was actual profit from U.S. box office only."
   ]
  },
  {
   "cell_type": "markdown",
   "metadata": {},
   "source": [
    "Step 2: Worldwide profit margin"
   ]
  },
  {
   "cell_type": "code",
   "execution_count": 241,
   "metadata": {},
   "outputs": [],
   "source": [
    "tn_movie_budgets['ww_profit_margin'] = (\n",
    "    (tn_movie_budgets['worldwide_gross'] - tn_movie_budgets['production_budget'])\n",
    "    / tn_movie_budgets['worldwide_gross']\n",
    ") * 100\n"
   ]
  },
  {
   "cell_type": "markdown",
   "metadata": {},
   "source": [
    "\n",
    "Same idea, but using global revenue.\n",
    "\n",
    "Helps you see if movies depended more on domestic vs international markets for profitability."
   ]
  },
  {
   "cell_type": "markdown",
   "metadata": {},
   "source": [
    " Step 3: Inspect results"
   ]
  },
  {
   "cell_type": "code",
   "execution_count": 242,
   "metadata": {},
   "outputs": [
    {
     "data": {
      "text/html": [
       "<div>\n",
       "<style scoped>\n",
       "    .dataframe tbody tr th:only-of-type {\n",
       "        vertical-align: middle;\n",
       "    }\n",
       "\n",
       "    .dataframe tbody tr th {\n",
       "        vertical-align: top;\n",
       "    }\n",
       "\n",
       "    .dataframe thead th {\n",
       "        text-align: right;\n",
       "    }\n",
       "</style>\n",
       "<table border=\"1\" class=\"dataframe\">\n",
       "  <thead>\n",
       "    <tr style=\"text-align: right;\">\n",
       "      <th></th>\n",
       "      <th>movie</th>\n",
       "      <th>production_budget</th>\n",
       "      <th>domestic_gross</th>\n",
       "      <th>worldwide_gross</th>\n",
       "      <th>dom_profit_margin</th>\n",
       "      <th>ww_profit_margin</th>\n",
       "    </tr>\n",
       "  </thead>\n",
       "  <tbody>\n",
       "    <tr>\n",
       "      <th>0</th>\n",
       "      <td>Avatar</td>\n",
       "      <td>425000000</td>\n",
       "      <td>760507625</td>\n",
       "      <td>2776345279</td>\n",
       "      <td>44.116274</td>\n",
       "      <td>84.692106</td>\n",
       "    </tr>\n",
       "    <tr>\n",
       "      <th>1</th>\n",
       "      <td>Pirates Of The Caribbean: On Stranger Tides</td>\n",
       "      <td>410600000</td>\n",
       "      <td>241063875</td>\n",
       "      <td>1045663875</td>\n",
       "      <td>-70.328300</td>\n",
       "      <td>60.733080</td>\n",
       "    </tr>\n",
       "    <tr>\n",
       "      <th>2</th>\n",
       "      <td>Dark Phoenix</td>\n",
       "      <td>350000000</td>\n",
       "      <td>42762350</td>\n",
       "      <td>149762350</td>\n",
       "      <td>-718.477001</td>\n",
       "      <td>-133.703598</td>\n",
       "    </tr>\n",
       "    <tr>\n",
       "      <th>3</th>\n",
       "      <td>Avengers: Age Of Ultron</td>\n",
       "      <td>330600000</td>\n",
       "      <td>459005868</td>\n",
       "      <td>1403013963</td>\n",
       "      <td>27.974777</td>\n",
       "      <td>76.436443</td>\n",
       "    </tr>\n",
       "    <tr>\n",
       "      <th>4</th>\n",
       "      <td>Star Wars Ep. Viii: The Last Jedi</td>\n",
       "      <td>317000000</td>\n",
       "      <td>620181382</td>\n",
       "      <td>1316721747</td>\n",
       "      <td>48.885921</td>\n",
       "      <td>75.925058</td>\n",
       "    </tr>\n",
       "    <tr>\n",
       "      <th>5</th>\n",
       "      <td>Star Wars Ep. Vii: The Force Awakens</td>\n",
       "      <td>306000000</td>\n",
       "      <td>936662225</td>\n",
       "      <td>2053311220</td>\n",
       "      <td>67.330806</td>\n",
       "      <td>85.097242</td>\n",
       "    </tr>\n",
       "    <tr>\n",
       "      <th>6</th>\n",
       "      <td>Avengers: Infinity War</td>\n",
       "      <td>300000000</td>\n",
       "      <td>678815482</td>\n",
       "      <td>2048134200</td>\n",
       "      <td>55.805369</td>\n",
       "      <td>85.352522</td>\n",
       "    </tr>\n",
       "    <tr>\n",
       "      <th>7</th>\n",
       "      <td>Pirates Of The Caribbean: At WorldâS End</td>\n",
       "      <td>300000000</td>\n",
       "      <td>309420425</td>\n",
       "      <td>963420425</td>\n",
       "      <td>3.044539</td>\n",
       "      <td>68.860947</td>\n",
       "    </tr>\n",
       "    <tr>\n",
       "      <th>8</th>\n",
       "      <td>Justice League</td>\n",
       "      <td>300000000</td>\n",
       "      <td>229024295</td>\n",
       "      <td>655945209</td>\n",
       "      <td>-30.990470</td>\n",
       "      <td>54.264473</td>\n",
       "    </tr>\n",
       "    <tr>\n",
       "      <th>9</th>\n",
       "      <td>Spectre</td>\n",
       "      <td>300000000</td>\n",
       "      <td>200074175</td>\n",
       "      <td>879620923</td>\n",
       "      <td>-49.944389</td>\n",
       "      <td>65.894399</td>\n",
       "    </tr>\n",
       "  </tbody>\n",
       "</table>\n",
       "</div>"
      ],
      "text/plain": [
       "                                         movie  production_budget  \\\n",
       "0                                       Avatar          425000000   \n",
       "1  Pirates Of The Caribbean: On Stranger Tides          410600000   \n",
       "2                                 Dark Phoenix          350000000   \n",
       "3                      Avengers: Age Of Ultron          330600000   \n",
       "4            Star Wars Ep. Viii: The Last Jedi          317000000   \n",
       "5         Star Wars Ep. Vii: The Force Awakens          306000000   \n",
       "6                       Avengers: Infinity War          300000000   \n",
       "7   Pirates Of The Caribbean: At WorldâS End          300000000   \n",
       "8                               Justice League          300000000   \n",
       "9                                      Spectre          300000000   \n",
       "\n",
       "   domestic_gross  worldwide_gross  dom_profit_margin  ww_profit_margin  \n",
       "0       760507625       2776345279          44.116274         84.692106  \n",
       "1       241063875       1045663875         -70.328300         60.733080  \n",
       "2        42762350        149762350        -718.477001       -133.703598  \n",
       "3       459005868       1403013963          27.974777         76.436443  \n",
       "4       620181382       1316721747          48.885921         75.925058  \n",
       "5       936662225       2053311220          67.330806         85.097242  \n",
       "6       678815482       2048134200          55.805369         85.352522  \n",
       "7       309420425        963420425           3.044539         68.860947  \n",
       "8       229024295        655945209         -30.990470         54.264473  \n",
       "9       200074175        879620923         -49.944389         65.894399  "
      ]
     },
     "execution_count": 242,
     "metadata": {},
     "output_type": "execute_result"
    }
   ],
   "source": [
    "tn_movie_budgets[['movie','production_budget','domestic_gross','worldwide_gross','dom_profit_margin','ww_profit_margin']].head(10)\n"
   ]
  },
  {
   "cell_type": "markdown",
   "metadata": {},
   "source": [
    "# This structure is like we did for profit margins, but now for profit amount and ROI — and using our dataset (tn_movie_budgets)."
   ]
  },
  {
   "cell_type": "markdown",
   "metadata": {},
   "source": [
    "Step 4: Worldwide profit amount"
   ]
  },
  {
   "cell_type": "code",
   "execution_count": 243,
   "metadata": {},
   "outputs": [],
   "source": [
    "tn_movie_budgets['world_wide_profit_amount'] = (\n",
    "    tn_movie_budgets['worldwide_gross'] - tn_movie_budgets['production_budget']\n",
    ")\n"
   ]
  },
  {
   "cell_type": "markdown",
   "metadata": {},
   "source": [
    "\n",
    "\n",
    "This gives you the absolute dollar profit (or loss) a movie made globally.\n",
    "\n",
    "Unlike margins, this shows the real money gained.\n",
    "\n",
    "Example: If budget = $100M, worldwide gross = $250M →\n",
    "Profit = $150M."
   ]
  },
  {
   "cell_type": "markdown",
   "metadata": {},
   "source": [
    " Step 5: Return on Investment (ROI)"
   ]
  },
  {
   "cell_type": "code",
   "execution_count": 244,
   "metadata": {},
   "outputs": [],
   "source": [
    "tn_movie_budgets['ROI_perc'] = (\n",
    "    tn_movie_budgets['world_wide_profit_amount'] / tn_movie_budgets['production_budget']\n",
    ") * 100\n"
   ]
  },
  {
   "cell_type": "markdown",
   "metadata": {},
   "source": [
    "\n",
    "ROI tells you how efficiently money was used.\n",
    "\n",
    "Formula:\n",
    "\n",
    "𝑅\n",
    "𝑂\n",
    "𝐼\n",
    "=\n",
    "Net Profit\n",
    "Budget\n",
    "×\n",
    "100\n",
    "ROI=\n",
    "Budget\n",
    "Net Profit\n",
    "\t​\n",
    "\n",
    "×100\n",
    "\n",
    "A blockbuster making $200M profit on a $200M budget → ROI = 100%.\n",
    "\n",
    "But a small film making $20M profit on $5M budget → ROI = 400%.\n",
    "\n",
    "So ROI highlights hidden winners among low-budget films."
   ]
  },
  {
   "cell_type": "markdown",
   "metadata": {},
   "source": [
    " Step 6:Inspect results"
   ]
  },
  {
   "cell_type": "code",
   "execution_count": 245,
   "metadata": {},
   "outputs": [
    {
     "name": "stdout",
     "output_type": "stream",
     "text": [
      "[2009 2011 2019 2015 2017 2018 2007 2012 2013 2010 2016 2014 2006 2008\n",
      " 2005 1997 2004 1999 1995 2003]\n",
      "int64\n"
     ]
    }
   ],
   "source": [
    "tn_movie_budgets[['movie','production_budget','worldwide_gross',\n",
    "                  'world_wide_profit_amount','ROI_perc']].head(10)\n",
    "\n",
    "print(tn_movie_budgets['release_year'].unique()[:20])\n",
    "print(tn_movie_budgets['release_year'].dtype)\n"
   ]
  },
  {
   "cell_type": "markdown",
   "metadata": {},
   "source": [
    "# Now filtering the dataset by year tn_movie_budgets"
   ]
  },
  {
   "cell_type": "code",
   "execution_count": 246,
   "metadata": {},
   "outputs": [],
   "source": [
    "tn_movie_budgets= tn_movie_budgets[tn_movie_budgets['release_year'] > 2000]\n"
   ]
  },
  {
   "cell_type": "code",
   "execution_count": 247,
   "metadata": {},
   "outputs": [
    {
     "name": "stdout",
     "output_type": "stream",
     "text": [
      "(4198, 12)\n",
      "2001 2020\n"
     ]
    }
   ],
   "source": [
    "print(tn_movie_budgets.shape)\n",
    "print(tn_movie_budgets['release_year'].min(), tn_movie_budgets['release_year'].max())\n",
    "\n"
   ]
  },
  {
   "cell_type": "code",
   "execution_count": 248,
   "metadata": {},
   "outputs": [
    {
     "name": "stdout",
     "output_type": "stream",
     "text": [
      "<class 'pandas.core.frame.DataFrame'>\n",
      "Int64Index: 4198 entries, 0 to 5781\n",
      "Data columns (total 12 columns):\n",
      " #   Column                    Non-Null Count  Dtype  \n",
      "---  ------                    --------------  -----  \n",
      " 0   id                        4198 non-null   int64  \n",
      " 1   movie                     4198 non-null   object \n",
      " 2   production_budget         4198 non-null   int64  \n",
      " 3   domestic_gross            4198 non-null   int64  \n",
      " 4   worldwide_gross           4198 non-null   int64  \n",
      " 5   release_year              4198 non-null   int64  \n",
      " 6   month_dt                  4198 non-null   int64  \n",
      " 7   month                     4198 non-null   int64  \n",
      " 8   dom_profit_margin         4198 non-null   float64\n",
      " 9   ww_profit_margin          4198 non-null   float64\n",
      " 10  world_wide_profit_amount  4198 non-null   int64  \n",
      " 11  ROI_perc                  4198 non-null   float64\n",
      "dtypes: float64(3), int64(8), object(1)\n",
      "memory usage: 426.4+ KB\n"
     ]
    }
   ],
   "source": [
    "tn_movie_budgets.info()"
   ]
  },
  {
   "cell_type": "markdown",
   "metadata": {},
   "source": [
    "\n",
    "\n",
    "Older movies (before 2000) may not reflect today’s industry dynamics.\n",
    "\n",
    "Budgets, marketing, and box office models changed drastically in the 2025s (e.g., streaming, globalization).\n",
    "\n"
   ]
  },
  {
   "cell_type": "markdown",
   "metadata": {},
   "source": [
    "# Shifting into release month analysis. Since we are using tn_movie_budgets instead of numbers_df, let’s rewrite and break it down:"
   ]
  },
  {
   "cell_type": "markdown",
   "metadata": {},
   "source": [
    " Step 1: Group by release month and calculate medians"
   ]
  },
  {
   "cell_type": "code",
   "execution_count": 249,
   "metadata": {},
   "outputs": [],
   "source": [
    "# Group movies by release month and take the median of numeric columns\n",
    "month_df = tn_movie_budgets.groupby('month').median()\n",
    "\n",
    "# Reset index so 'month' becomes a column again\n",
    "month_df = month_df.reset_index()\n",
    "\n",
    "# Sort by month number (1–12)\n",
    "month_df = month_df.sort_values('month')\n",
    "\n",
    "# Add month names\n",
    "month_dict = {\n",
    "    1: 'Jan', 2: 'Feb', 3: 'Mar', 4: 'Apr',\n",
    "    5: 'May', 6: 'Jun', 7: 'Jul', 8: 'Aug',\n",
    "    9: 'Sep', 10: 'Oct', 11: 'Nov', 12: 'Dec'\n",
    "}\n",
    "month_df['month_name'] = month_df['month'].map(month_dict)\n"
   ]
  },
  {
   "cell_type": "markdown",
   "metadata": {},
   "source": [
    "\n",
    "\n",
    "Grouping by month lets you see if certain months tend to produce higher profits/ROI.\n",
    "\n",
    "Using the median reduces the impact of extreme outliers (e.g., Avengers making billions).\n",
    "\n",
    "Sorting ensures the months are in calendar order.\n",
    "\n",
    "Adding names (Jan, Feb, etc.) makes plots readable."
   ]
  },
  {
   "cell_type": "markdown",
   "metadata": {},
   "source": [
    "# Merging "
   ]
  },
  {
   "cell_type": "markdown",
   "metadata": {},
   "source": [
    "#  The Numbers (box office + budget) with IMDb"
   ]
  },
  {
   "cell_type": "markdown",
   "metadata": {},
   "source": [
    "# Merge datasets on title + year"
   ]
  },
  {
   "cell_type": "code",
   "execution_count": 250,
   "metadata": {},
   "outputs": [
    {
     "name": "stdout",
     "output_type": "stream",
     "text": [
      "[2009 2011 2019 2015 2017 2018 2007 2012 2013 2010 2016 2014 2006 2008\n",
      " 2005 2004 2003 2001 2020 2002]\n",
      "[2013 2019 2018 2017 2012 2010 2011 2015 2016 2014 2020 2022 2021]\n"
     ]
    }
   ],
   "source": [
    "print(tn_movie_budgets['release_year'].unique()[:20])\n",
    "print(runtime_df['start_year'].unique()[:20])\n"
   ]
  },
  {
   "cell_type": "code",
   "execution_count": 251,
   "metadata": {},
   "outputs": [
    {
     "name": "stdout",
     "output_type": "stream",
     "text": [
      "Overlap years: {2016, 2017, 2018, 2019, 2020, 2010, 2011, 2012, 2013, 2014, 2015}\n"
     ]
    }
   ],
   "source": [
    "overlap_years = set(tn_movie_budgets['release_year']).intersection(set(runtime_df['start_year']))\n",
    "print(\"Overlap years:\", overlap_years)\n"
   ]
  },
  {
   "cell_type": "code",
   "execution_count": 252,
   "metadata": {},
   "outputs": [
    {
     "name": "stdout",
     "output_type": "stream",
     "text": [
      "The Numbers (2019) sample: ['Dark Phoenix' 'Aladdin' 'Captain Marvel' 'Dumbo' 'Alita: Battle Angel'\n",
      " 'Godzilla: King Of The Monsters' 'Pokã©Mon: Detective Pikachu'\n",
      " 'How To Train Your Dragon: The Hidden World'\n",
      " 'Men In Black: International' 'Wonder Park'\n",
      " 'The Lego Movie 2: The Second Part' 'Army Of The Dead' 'Shazam!'\n",
      " 'The Secret Life Of Pets 2' 'Renegades' 'Playmobil' '355'\n",
      " 'A Dogâ\\x80\\x99S Way Home' 'Cold Pursuit' 'Midway']\n",
      "IMDb (2019) sample: ['One Day Before The Rainy Season' 'Alita: Battle Angel' 'Shazam!'\n",
      " 'The Legend Of Secret Pass' 'The Dirt' 'Pet Sematary' 'Bolden'\n",
      " 'Disrupted Land' 'Fiddler: A Miracle Of Miracles' 'Soccer In The City'\n",
      " 'When I Became A Butterfly' 'Paradise' 'Aporia' 'Debout' 'Krishnam'\n",
      " 'Kala-A-Zar' 'Terror In The Skies' 'Bull' 'Troublemaker' 'Snatchers']\n"
     ]
    }
   ],
   "source": [
    "tn_2019 = tn_movie_budgets[tn_movie_budgets['release_year'] == 2019]['movie'].unique()\n",
    "imdb_2019 = runtime_df[runtime_df['start_year'] == 2019]['primary_title'].unique()\n",
    "\n",
    "print(\"The Numbers (2019) sample:\", tn_2019[:20])\n",
    "print(\"IMDb (2019) sample:\", imdb_2019[:20])\n"
   ]
  },
  {
   "cell_type": "code",
   "execution_count": 253,
   "metadata": {},
   "outputs": [],
   "source": [
    "numbers_and_runtime = tn_movie_budgets.merge(\n",
    "    runtime_df,\n",
    "    left_on=['movie', 'release_year'],\n",
    "    right_on=['primary_title', 'start_year'],\n",
    "    how='inner'\n",
    ")\n",
    "# Keep only movies with valid domestic gross\n",
    "numbers_and_runtime = numbers_and_runtime.loc[numbers_and_runtime['domestic_gross'] > 0]\n"
   ]
  },
  {
   "cell_type": "markdown",
   "metadata": {},
   "source": [
    "Merge on both title + year\n",
    "\n",
    "Some movies share the same title (Halloween 1978 vs Halloween 2018).\n",
    "\n",
    "Matching with year avoids wrong matches.\n",
    "\n",
    "Inner join (how='inner')\n",
    "\n",
    "Keeps only rows where a movie exists in both datasets - so each row has financial data + runtime.\n",
    "\n",
    "Filter out domestic_gross == 0\n",
    "\n",
    "Removes movies that never played in theaters in the U.S.\n",
    "\n",
    "Ensures analysis is focused on box office performers."
   ]
  },
  {
   "cell_type": "markdown",
   "metadata": {},
   "source": [
    "# Inspect merged results"
   ]
  },
  {
   "cell_type": "code",
   "execution_count": 254,
   "metadata": {},
   "outputs": [
    {
     "name": "stdout",
     "output_type": "stream",
     "text": [
      "(1395, 15)\n",
      "<class 'pandas.core.frame.DataFrame'>\n",
      "Int64Index: 1395 entries, 0 to 1558\n",
      "Data columns (total 15 columns):\n",
      " #   Column                    Non-Null Count  Dtype  \n",
      "---  ------                    --------------  -----  \n",
      " 0   id                        1395 non-null   int64  \n",
      " 1   movie                     1395 non-null   object \n",
      " 2   production_budget         1395 non-null   int64  \n",
      " 3   domestic_gross            1395 non-null   int64  \n",
      " 4   worldwide_gross           1395 non-null   int64  \n",
      " 5   release_year              1395 non-null   int64  \n",
      " 6   month_dt                  1395 non-null   int64  \n",
      " 7   month                     1395 non-null   int64  \n",
      " 8   dom_profit_margin         1395 non-null   float64\n",
      " 9   ww_profit_margin          1395 non-null   float64\n",
      " 10  world_wide_profit_amount  1395 non-null   int64  \n",
      " 11  ROI_perc                  1395 non-null   float64\n",
      " 12  primary_title             1395 non-null   object \n",
      " 13  start_year                1395 non-null   int64  \n",
      " 14  runtime_minutes           1395 non-null   float64\n",
      "dtypes: float64(4), int64(9), object(2)\n",
      "memory usage: 174.4+ KB\n"
     ]
    }
   ],
   "source": [
    "print(numbers_and_runtime.shape)\n",
    "numbers_and_runtime.head()\n",
    "numbers_and_runtime.info()\n"
   ]
  },
  {
   "cell_type": "markdown",
   "metadata": {},
   "source": [
    "# Creating dataframe with studio and box office data"
   ]
  },
  {
   "cell_type": "markdown",
   "metadata": {},
   "source": [
    " Step 1: \n",
    "Select relevant columns from Box Office Mojo\n",
    "We only need the movie title, studio, and release year from BOM because these are the identifiers we will merge with The Numbers dataset."
   ]
  },
  {
   "cell_type": "code",
   "execution_count": 255,
   "metadata": {},
   "outputs": [],
   "source": [
    "# Selecting only the necessary columns from BOM\n",
    "studio_df = bom_movie_gross [['title', 'studio', 'year']]\n"
   ]
  },
  {
   "cell_type": "markdown",
   "metadata": {},
   "source": [
    " Step 2: \n",
    "Merge with The Numbers dataset"
   ]
  },
  {
   "cell_type": "markdown",
   "metadata": {},
   "source": [
    "Now we merge studio_df with tn_movie_budgets to attach financial data (budget, domestic gross, worldwide gross) to each movie."
   ]
  },
  {
   "cell_type": "code",
   "execution_count": 256,
   "metadata": {},
   "outputs": [],
   "source": [
    "# Merge studio info from BOM with financial info from The Numbers\n",
    "studio_df = studio_df.merge(\n",
    "    tn_movie_budgets,             # TN dataset with budgets & grosses\n",
    "    left_on=['title', 'year'],    # BOM columns to merge on\n",
    "    right_on=['movie', 'release_year'], # TN columns to merge on\n",
    "    how='inner'                   # Only keep movies that exist in both datasets\n",
    ")\n"
   ]
  },
  {
   "cell_type": "markdown",
   "metadata": {},
   "source": [
    "Some movies may have the same title but are different movies released in different years. Matching only by title could create incorrect combinations."
   ]
  },
  {
   "cell_type": "markdown",
   "metadata": {},
   "source": [
    " Step 3: \n",
    "Inspect the merged dataframe"
   ]
  },
  {
   "cell_type": "code",
   "execution_count": 257,
   "metadata": {},
   "outputs": [
    {
     "name": "stdout",
     "output_type": "stream",
     "text": [
      "(1255, 15)\n",
      "                        title studio  year  id                       movie  \\\n",
      "0                 Toy Story 3     BV  2010  47                 Toy Story 3   \n",
      "1                   Inception     WB  2010  38                   Inception   \n",
      "2         Shrek Forever After   P/DW  2010  27         Shrek Forever After   \n",
      "3  The Twilight Saga: Eclipse   Sum.  2010  53  The Twilight Saga: Eclipse   \n",
      "4                  Iron Man 2   Par.  2010  15                  Iron Man 2   \n",
      "\n",
      "   production_budget  domestic_gross  worldwide_gross  release_year  month_dt  \\\n",
      "0          200000000       415004880       1068879522          2010         6   \n",
      "1          160000000       292576195        835524642          2010         7   \n",
      "2          165000000       238736787        756244673          2010         5   \n",
      "3           68000000       300531751        706102828          2010         6   \n",
      "4          170000000       312433331        621156389          2010         5   \n",
      "\n",
      "   month  dom_profit_margin  ww_profit_margin  world_wide_profit_amount  \\\n",
      "0      6          51.807796         81.288817                 868879522   \n",
      "1      7          45.313391         80.850355                 675524642   \n",
      "2      5          30.886227         78.181664                 591244673   \n",
      "3      6          77.373439         90.369675                 638102828   \n",
      "4      5          45.588392         72.631691                 451156389   \n",
      "\n",
      "     ROI_perc  \n",
      "0  434.439761  \n",
      "1  422.202901  \n",
      "2  358.330105  \n",
      "3  938.386512  \n",
      "4  265.386111  \n"
     ]
    }
   ],
   "source": [
    "# Check the shape of the new dataframe\n",
    "print(studio_df.shape)\n",
    "\n",
    "# Preview first 10 rows\n",
    "print(studio_df.head())"
   ]
  },
  {
   "cell_type": "markdown",
   "metadata": {},
   "source": [
    "# Calculating average studio-level metrics"
   ]
  },
  {
   "cell_type": "markdown",
   "metadata": {},
   "source": [
    "Step 1: Group by studio"
   ]
  },
  {
   "cell_type": "code",
   "execution_count": 258,
   "metadata": {},
   "outputs": [],
   "source": [
    "avg_studio = studio_df.groupby('studio').mean().reset_index()\n"
   ]
  },
  {
   "cell_type": "markdown",
   "metadata": {},
   "source": [
    "We want to see studio-level performance rather than movie-level.\n",
    "\n",
    "Grouping and averaging helps us identify which studios consistently produce profitable movies.\n",
    "\n",
    "Groupby('studio')  Groups all movies by their production studio.\n",
    "\n",
    "mean()  Calculates the average of all numeric columns for each studio, e.g., production_budget, domestic_gross, worldwide_gross, dom_profit_margin, ww_profit_margin, ROI_perc.\n",
    "\n",
    "reset_index()  Converts the grouped index (studio) back into a regular column so we can easily access and plot it"
   ]
  },
  {
   "cell_type": "markdown",
   "metadata": {},
   "source": [
    "Step 2: Filter only profitable studios"
   ]
  },
  {
   "cell_type": "code",
   "execution_count": 259,
   "metadata": {},
   "outputs": [],
   "source": [
    "avg_studio = avg_studio[avg_studio['dom_profit_margin'] > 0]\n"
   ]
  },
  {
   "cell_type": "markdown",
   "metadata": {},
   "source": [
    "Negative-profit studios can skew analysis and plots.\n",
    "\n",
    "Focusing on positive-profit studios helps highlight the best-performing studios.\n",
    "dom_profit_margin > 0  Keeps only studios whose average domestic profit margin is positive.\n",
    "\n",
    "This removes studios that on average lose money domestically, so analysis focuses on studios that are financially successful."
   ]
  },
  {
   "cell_type": "code",
   "execution_count": 260,
   "metadata": {},
   "outputs": [
    {
     "name": "stdout",
     "output_type": "stream",
     "text": [
      "(14, 13)\n",
      "     studio         year         id  production_budget  domestic_gross  \\\n",
      "0        3D  2010.000000  31.000000       5.000000e+06    6.096582e+06   \n",
      "3    Affirm  2017.500000  53.500000       3.500000e+06    1.167510e+07   \n",
      "11  BH Tilt  2016.600000  57.200000       2.800000e+06    8.717903e+06   \n",
      "15      CBS  2011.545455  56.363636       2.063636e+07    2.758124e+07   \n",
      "48     MBox  2014.000000   3.000000       2.600000e+06    3.827060e+06   \n",
      "\n",
      "    worldwide_gross  release_year  month_dt     month  dom_profit_margin  \\\n",
      "0      1.651520e+07   2010.000000  5.000000  5.000000          17.986833   \n",
      "3      1.573575e+07   2017.500000  5.500000  5.500000          68.518543   \n",
      "11     1.323772e+07   2016.600000  7.800000  7.800000          61.680377   \n",
      "15     5.372220e+07   2011.545455  5.181818  5.181818          11.384555   \n",
      "48     1.529836e+07   2014.000000  5.000000  5.000000          32.062732   \n",
      "\n",
      "    ww_profit_margin  world_wide_profit_amount    ROI_perc  \n",
      "0          69.724865              1.151520e+07  230.304060  \n",
      "3          73.378039              1.223575e+07  303.844830  \n",
      "11         75.599998              1.043772e+07  689.651002  \n",
      "15         47.923730              3.308584e+07  221.347979  \n",
      "48         83.004709              1.269836e+07  488.398269  \n"
     ]
    }
   ],
   "source": [
    "print(avg_studio.shape)   # How many studios are left after filtering\n",
    "print(avg_studio.head(5)) # Preview the first 10 studios with average metrics\n"
   ]
  },
  {
   "cell_type": "markdown",
   "metadata": {},
   "source": [
    "# Merging The Numbers with TMDb to analyze genres"
   ]
  },
  {
   "cell_type": "markdown",
   "metadata": {},
   "source": [
    "#  Merge datasets"
   ]
  },
  {
   "cell_type": "code",
   "execution_count": 261,
   "metadata": {},
   "outputs": [],
   "source": [
    "genre_df = tn_movie_budgets.merge(tmdb_movies, left_on=['movie', 'release_year'], right_on=['title', 'release_year'])\n"
   ]
  },
  {
   "cell_type": "markdown",
   "metadata": {},
   "source": [
    "To analyze profitability by genre, we need both financial info and genre info in the same DataFrame."
   ]
  },
  {
   "cell_type": "code",
   "execution_count": 262,
   "metadata": {},
   "outputs": [],
   "source": [
    "genre_df.loc[:,'genre_ids'] = genre_df['genre_ids'].map(lambda genre_string: genre_string.strip('[]').split(', '))\n"
   ]
  },
  {
   "cell_type": "markdown",
   "metadata": {},
   "source": [
    "TMDb assigns multiple genres to a movie.\n",
    "\n",
    "Splitting into a list prepares it for exploding later, so each movie-genre combination becomes a separate row for analysis.\n",
    "genre_ids in TMDb is a string like \"[28, 12, 878]\".\n",
    "\n",
    "strip('[]')  removes the square brackets.\n",
    "split(', ')  converts the string into a list of genre IDs"
   ]
  },
  {
   "cell_type": "code",
   "execution_count": 263,
   "metadata": {},
   "outputs": [],
   "source": [
    "genre_df = genre_df.loc[(genre_df['worldwide_gross'] > 0) & (genre_df['domestic_gross'] > 0)]\n",
    "genre_ids_df = genre_df.explode('genre_ids')\n"
   ]
  },
  {
   "cell_type": "markdown",
   "metadata": {},
   "source": [
    "Keep only movies with revenue\n",
    "We only want movies that actually earned money, to calculate meaningful profitability metrics by genre.\n",
    "Explode('genre_ids') - creates one row per movie per genre.\n",
    "\n",
    "If a movie has 3 genres, it will now appear in 3 rows, one for each genre.\n",
    "Allows aggregation of financial metrics per genre, not per movie.\n"
   ]
  },
  {
   "cell_type": "markdown",
   "metadata": {},
   "source": [
    "# Map genre IDs to names"
   ]
  },
  {
   "cell_type": "code",
   "execution_count": 264,
   "metadata": {},
   "outputs": [
    {
     "name": "stdout",
     "output_type": "stream",
     "text": [
      "                                         movie  production_budget  \\\n",
      "0                                       Avatar          425000000   \n",
      "0                                       Avatar          425000000   \n",
      "0                                       Avatar          425000000   \n",
      "0                                       Avatar          425000000   \n",
      "1  Pirates Of The Caribbean: On Stranger Tides          410600000   \n",
      "\n",
      "   domestic_gross  worldwide_gross    ROI_perc genre_name  \n",
      "0       760507625       2776345279  553.257713     Action  \n",
      "0       760507625       2776345279  553.257713  Adventure  \n",
      "0       760507625       2776345279  553.257713    Fantasy  \n",
      "0       760507625       2776345279  553.257713     Sci-Fi  \n",
      "1       241063875       1045663875  154.667286  Adventure  \n"
     ]
    }
   ],
   "source": [
    "# Step 1: Map genre_ids to readable genre names using a dictionary\n",
    "genre_map = {\n",
    "    '28': 'Action', '12': 'Adventure', '16': 'Animation', '35': 'Comedy', '80': 'Crime',\n",
    "    '99': 'Documentary', '18': 'Drama', '10751': 'Family', '14': 'Fantasy', '36': 'History',\n",
    "    '27': 'Horror', '10402': 'Music', '9648': 'Mystery', '10749': 'Romance', '878': 'Sci-Fi',\n",
    "    '10770': 'TV Movie', '53': 'Thriller', '10752': 'War', '37': 'Western'\n",
    "}\n",
    "# Step 2: Add a new column for readable genre names\n",
    "genre_ids_df['genre_name'] = genre_ids_df['genre_ids'].map(genre_map)\n",
    "# Step 3: Inspect the resulting dataframe\n",
    "print(genre_ids_df[['movie', 'production_budget', 'domestic_gross', 'worldwide_gross', 'ROI_perc', 'genre_name']].head())"
   ]
  },
  {
   "cell_type": "markdown",
   "metadata": {},
   "source": [
    "genre_map  Provides a mapping from TMDb’s numeric IDs to human-readable genre names.\n",
    "\n",
    "map()  Converts each genre_id in genre_ids_df to its corresponding genre_name.\n",
    "now have a clean dataset (genre_ids_df) with financials and readable genres, ready for aggregation like calculating mean ROI per genre.\n"
   ]
  },
  {
   "cell_type": "code",
   "execution_count": 279,
   "metadata": {},
   "outputs": [
    {
     "name": "stdout",
     "output_type": "stream",
     "text": [
      "                                         movie  release_year  \\\n",
      "0                                       Avatar          2009   \n",
      "1                                       Avatar          2009   \n",
      "2                                       Avatar          2009   \n",
      "3                                       Avatar          2009   \n",
      "4  Pirates Of The Caribbean: On Stranger Tides          2011   \n",
      "\n",
      "   production_budget  domestic_gross  worldwide_gross    ROI_perc genre_ids  \\\n",
      "0          425000000       760507625       2776345279  553.257713        28   \n",
      "1          425000000       760507625       2776345279  553.257713        12   \n",
      "2          425000000       760507625       2776345279  553.257713        14   \n",
      "3          425000000       760507625       2776345279  553.257713       878   \n",
      "4          410600000       241063875       1045663875  154.667286        12   \n",
      "\n",
      "  genre_name  month  month_dt  \n",
      "0     Action     12        12  \n",
      "1  Adventure     12        12  \n",
      "2    Fantasy     12        12  \n",
      "3     Sci-Fi     12        12  \n",
      "4  Adventure      5         5  \n"
     ]
    }
   ],
   "source": [
    "# Rename the correct genre_name column\n",
    "# Keep genre_name_y (from converter) and drop genre_name_x\n",
    "genre_overall = genre_overall.rename(columns={'genre_name_y': 'genre_name'})\n",
    "\n",
    "# Drop duplicate or unnecessary columns\n",
    "genre_overall = genre_overall.drop(columns=['genre_name_x', 'id_x', 'id_y', 'Unnamed: 0'], errors='ignore')\n",
    "\n",
    "# Keep only the useful columns\n",
    "genre_overall_clean = genre_overall[[\n",
    "    'movie',\n",
    "    'release_year',\n",
    "    'production_budget',\n",
    "    'domestic_gross',\n",
    "    'worldwide_gross',\n",
    "    'ROI_perc',\n",
    "    'genre_ids',\n",
    "    'genre_name',\n",
    "    'month',        # <-- keep this\n",
    "    'month_dt'      # <-- and this\n",
    "]]\n",
    "\n",
    "print(genre_overall_clean.head())\n"
   ]
  },
  {
   "cell_type": "markdown",
   "metadata": {},
   "source": [
    "tmdb_movies → raw TMDb data with columns like title, release_date, genre_ids (as strings like \"[28, 12, 878]\").\n",
    "\n",
    "genre_df → merged tn_movie_budgets + tmdb_movies to bring financials together with genre_ids.\n",
    "\n",
    "genre_ids_df → exploded version of genre_df['genre_ids'], so each row now represents one movie–one genre instead of a list of IDs."
   ]
  },
  {
   "cell_type": "code",
   "execution_count": 270,
   "metadata": {},
   "outputs": [
    {
     "name": "stdout",
     "output_type": "stream",
     "text": [
      "Index(['movie', 'production_budget', 'domestic_gross', 'worldwide_gross',\n",
      "       'release_year', 'month_dt', 'month', 'dom_profit_margin',\n",
      "       'ww_profit_margin', 'world_wide_profit_amount', 'ROI_perc', 'genre_ids',\n",
      "       'original_language', 'original_title', 'popularity', 'release_date',\n",
      "       'title', 'vote_average', 'vote_count', 'genre_name'],\n",
      "      dtype='object')\n"
     ]
    }
   ],
   "source": [
    "print(genre_overall.columns)\n"
   ]
  },
  {
   "cell_type": "markdown",
   "metadata": {},
   "source": [
    "TMDb only gives numeric IDs in genre_ids.\n",
    "\n",
    "We need readable genre names to analyze which genres are most profitable."
   ]
  },
  {
   "cell_type": "markdown",
   "metadata": {},
   "source": [
    "# Analyze profitability by genre"
   ]
  },
  {
   "cell_type": "markdown",
   "metadata": {},
   "source": [
    "# Group by genre Mean version(average)"
   ]
  },
  {
   "cell_type": "code",
   "execution_count": 271,
   "metadata": {},
   "outputs": [
    {
     "name": "stdout",
     "output_type": "stream",
     "text": [
      "            release_year  production_budget  domestic_gross  worldwide_gross  \\\n",
      "genre_name                                                                     \n",
      "Horror       2014.006061       2.291297e+07    3.915706e+07     9.026821e+07   \n",
      "Thriller     2013.623288       3.731461e+07    4.332908e+07     1.084243e+08   \n",
      "Mystery      2013.771186       3.295345e+07    4.284843e+07     1.021399e+08   \n",
      "Romance      2013.214953       2.846243e+07    4.188975e+07     9.342080e+07   \n",
      "Animation    2014.290909       1.003909e+08    1.393303e+08     3.849198e+08   \n",
      "Sci-Fi       2014.258537       9.271988e+07    1.123468e+08     3.077264e+08   \n",
      "Music        2014.019608       2.693529e+07    4.828898e+07     9.604752e+07   \n",
      "\n",
      "               ROI_perc  \n",
      "genre_name               \n",
      "Horror      1069.092677  \n",
      "Thriller     436.286887  \n",
      "Mystery      436.142740  \n",
      "Romance      291.691268  \n",
      "Animation    287.135700  \n",
      "Sci-Fi       261.474050  \n",
      "Music        249.632305  \n"
     ]
    }
   ],
   "source": [
    "#Group by genre_name, calculate mean of financial metrics\n",
    "genre_groups = genre_overall_clean.groupby('genre_name').mean(numeric_only=True)\n",
    "\n",
    "#  Sort by ROI_perc and pick top 7 genres\n",
    "genre_groups = genre_groups.sort_values('ROI_perc', ascending=False).head(7)\n",
    "\n",
    "print(genre_groups)\n",
    "\n"
   ]
  },
  {
   "cell_type": "markdown",
   "metadata": {},
   "source": [
    "We are grouping by genre_name and calculating the average financial metrics (like ROI, budget, and gross) because we want to find out which genres are the most profitable on average.\n",
    "\n",
    "By grouping, we turn many individual movies into a single “genre profile.”\n",
    "\n",
    "By taking the mean, we can compare genres fairly, instead of looking at random single movies.\n",
    "\n",
    "By sorting by ROI, we highlight which genres give the highest return on investment — this tells us where money is being made most efficiently.\n",
    "\n",
    "Finally, limiting to the top 7 gives us a focused view of the genres that perform the best, so the analysis is actionable.\n",
    "\n",
    "What it does:(Mean)\n",
    "Takes the average ROI, budget, gross, etc. across all movies in each genre.\n",
    "\n",
    "Pros:\n",
    "\n",
    "Captures the overall profitability of the genre.\n",
    "\n",
    "Good if you want the \"expected value\" of investing in that genre.\n",
    "\n",
    "Cons:\n",
    "\n",
    "Sensitive to outliers (e.g., one mega-hit Marvel movie can make \"Superhero\" genre look insanely profitable, even if most films lose money).\n"
   ]
  },
  {
   "cell_type": "markdown",
   "metadata": {},
   "source": [
    "#  Median version (middle value)\n"
   ]
  },
  {
   "cell_type": "code",
   "execution_count": 272,
   "metadata": {},
   "outputs": [
    {
     "name": "stdout",
     "output_type": "stream",
     "text": [
      "            release_year  production_budget  domestic_gross  worldwide_gross  \\\n",
      "genre_name                                                                     \n",
      "Horror            2014.0         10000000.0      29136626.0       59922558.0   \n",
      "Animation         2015.0         87500000.0     121440343.5      327829122.5   \n",
      "Adventure         2015.0        110000000.0      93432655.0      282778100.0   \n",
      "Family            2014.0         78000000.0      82051601.0      200859554.0   \n",
      "Fantasy           2014.0         90000000.0      68549695.0      213691277.0   \n",
      "Mystery           2015.0         21500000.0      30322525.0       63757397.0   \n",
      "Comedy            2014.0         28000000.0      37915414.0       67130045.0   \n",
      "\n",
      "              ROI_perc  \n",
      "genre_name              \n",
      "Horror      231.669132  \n",
      "Animation   200.418943  \n",
      "Adventure   167.114096  \n",
      "Family      166.547080  \n",
      "Fantasy     165.951426  \n",
      "Mystery     156.768909  \n",
      "Comedy      152.905265  \n"
     ]
    }
   ],
   "source": [
    "# Group by genre_name and calculate the median of numeric columns\n",
    "genre_groups_med = genre_overall_clean.groupby('genre_name').median(numeric_only=True)\n",
    "\n",
    "# Sort by ROI_perc and keep top 7\n",
    "genres\n",
    "genre_groups_med = genre_groups_med.sort_values('ROI_perc', ascending=False).head(7)\n",
    "\n",
    "print(genre_groups_med)\n"
   ]
  },
  {
   "cell_type": "markdown",
   "metadata": {},
   "source": [
    "We already looked at average ROI per genre using the mean. That gave us a sense of overall profitability but was sensitive to outliers (e.g., one mega-hit movie making a genre look profitable even if most others flopped).\n",
    "\n",
    "What it does:\n",
    "Takes the median (middle) ROI, budget, gross, etc. for movies in each genre.\n",
    "\n",
    "Pros:\n",
    "\n",
    "Shows what the typical movie in the genre earns.\n",
    "\n",
    "More robust against extreme values (one flop or one blockbuster won’t skew results).\n",
    "\n",
    "Cons:\n",
    "\n",
    "Doesn’t capture the impact of extreme successes, which are important in the film industry (because a few blockbusters can fund the entire studio).\n",
    "\n",
    "N/B "
   ]
  },
  {
   "cell_type": "markdown",
   "metadata": {},
   "source": [
    "Mean = overall average performance of the genre → influenced by big winners and losers.\n",
    "\n",
    "Median = typical performance of the genre → tells you what a \"normal\" movie in that genre does."
   ]
  },
  {
   "cell_type": "code",
   "execution_count": 280,
   "metadata": {},
   "outputs": [
    {
     "name": "stdout",
     "output_type": "stream",
     "text": [
      "   month  release_year  production_budget  domestic_gross  worldwide_gross  \\\n",
      "0      1        2014.0         12500000.0      33694789.0       77892256.0   \n",
      "1      2        2014.0         10000000.0      26797294.0       48461873.5   \n",
      "2      3        2015.0          5000000.0      14674077.0       23250755.0   \n",
      "3      4        2013.5          5000000.0      35485286.5       67527083.0   \n",
      "4      5        2015.0         35000000.0      29136626.0       84154026.0   \n",
      "\n",
      "     ROI_perc  month_dt month_name  \n",
      "0  325.677601       1.0        Jan  \n",
      "1  475.462447       2.0        Feb  \n",
      "2  499.201020       3.0        Mar  \n",
      "3  333.270935       4.0        Apr  \n",
      "4  145.898193       5.0        May  \n"
     ]
    }
   ],
   "source": [
    "# Filter Horror movies only\n",
    "horror_month_df = genre_overall_clean[genre_overall_clean['genre_name'] == 'Horror']\n",
    "\n",
    "# Drop very low earners\n",
    "horror_month_df = horror_month_df[horror_month_df['worldwide_gross'] > 100000]\n",
    "\n",
    "# Group by release month and take the median of numeric columns\n",
    "horror_month_df = horror_month_df.groupby('month').median(numeric_only=True).reset_index()\n",
    "\n",
    "# Sort by calendar order (month_dt ensures Jan -> Dec)\n",
    "horror_month_df = horror_month_df.sort_values('month_dt')\n",
    "\n",
    "# Map month numbers to names\n",
    "month_dict = {\n",
    "    1:\"Jan\", 2:\"Feb\", 3:\"Mar\", 4:\"Apr\", 5:\"May\", 6:\"Jun\",\n",
    "    7:\"Jul\", 8:\"Aug\", 9:\"Sep\", 10:\"Oct\", 11:\"Nov\", 12:\"Dec\"\n",
    "}\n",
    "horror_month_df['month_name'] = horror_month_df['month'].map(month_dict)\n",
    "\n",
    "print(horror_month_df.head())\n"
   ]
  },
  {
   "cell_type": "markdown",
   "metadata": {},
   "source": [
    "I filter the dataset down to Horror movies and drop tiny releases (worldwide_gross > 100000).\n",
    "\n",
    "I group those movies by release month and take the median of numeric metrics (so we see the typical horror movie performance per month).\n",
    "\n",
    "I reset the index and sort by month_dt so months appear in calendar order (Jan - Dec).\n",
    "\n",
    "I map month numbers to readable month names (Jan, Feb, ...) so the table is easy to read and plot."
   ]
  },
  {
   "cell_type": "markdown",
   "metadata": {},
   "source": [
    "# An overview of our descriptive analysis of the dataframes will use for our Simple Linear Regression anaysis "
   ]
  },
  {
   "cell_type": "code",
   "execution_count": 281,
   "metadata": {},
   "outputs": [
    {
     "data": {
      "text/html": [
       "<div>\n",
       "<style scoped>\n",
       "    .dataframe tbody tr th:only-of-type {\n",
       "        vertical-align: middle;\n",
       "    }\n",
       "\n",
       "    .dataframe tbody tr th {\n",
       "        vertical-align: top;\n",
       "    }\n",
       "\n",
       "    .dataframe thead th {\n",
       "        text-align: right;\n",
       "    }\n",
       "</style>\n",
       "<table border=\"1\" class=\"dataframe\">\n",
       "  <thead>\n",
       "    <tr style=\"text-align: right;\">\n",
       "      <th></th>\n",
       "      <th>month</th>\n",
       "      <th>release_year</th>\n",
       "      <th>production_budget</th>\n",
       "      <th>domestic_gross</th>\n",
       "      <th>worldwide_gross</th>\n",
       "      <th>ROI_perc</th>\n",
       "      <th>month_dt</th>\n",
       "    </tr>\n",
       "  </thead>\n",
       "  <tbody>\n",
       "    <tr>\n",
       "      <th>count</th>\n",
       "      <td>12.000000</td>\n",
       "      <td>12.000000</td>\n",
       "      <td>1.200000e+01</td>\n",
       "      <td>1.200000e+01</td>\n",
       "      <td>1.200000e+01</td>\n",
       "      <td>12.000000</td>\n",
       "      <td>12.000000</td>\n",
       "    </tr>\n",
       "    <tr>\n",
       "      <th>mean</th>\n",
       "      <td>6.500000</td>\n",
       "      <td>2014.375000</td>\n",
       "      <td>1.225000e+07</td>\n",
       "      <td>2.967463e+07</td>\n",
       "      <td>6.444484e+07</td>\n",
       "      <td>354.721341</td>\n",
       "      <td>6.500000</td>\n",
       "    </tr>\n",
       "    <tr>\n",
       "      <th>std</th>\n",
       "      <td>3.605551</td>\n",
       "      <td>1.130668</td>\n",
       "      <td>7.981513e+06</td>\n",
       "      <td>1.267051e+07</td>\n",
       "      <td>2.953579e+07</td>\n",
       "      <td>268.683956</td>\n",
       "      <td>3.605551</td>\n",
       "    </tr>\n",
       "    <tr>\n",
       "      <th>min</th>\n",
       "      <td>1.000000</td>\n",
       "      <td>2012.500000</td>\n",
       "      <td>5.000000e+06</td>\n",
       "      <td>6.810754e+06</td>\n",
       "      <td>8.890094e+06</td>\n",
       "      <td>87.420720</td>\n",
       "      <td>1.000000</td>\n",
       "    </tr>\n",
       "    <tr>\n",
       "      <th>25%</th>\n",
       "      <td>3.750000</td>\n",
       "      <td>2013.875000</td>\n",
       "      <td>9.000000e+06</td>\n",
       "      <td>2.127689e+07</td>\n",
       "      <td>4.609280e+07</td>\n",
       "      <td>215.755023</td>\n",
       "      <td>3.750000</td>\n",
       "    </tr>\n",
       "    <tr>\n",
       "      <th>50%</th>\n",
       "      <td>6.500000</td>\n",
       "      <td>2014.000000</td>\n",
       "      <td>1.050000e+07</td>\n",
       "      <td>3.137490e+07</td>\n",
       "      <td>7.166126e+07</td>\n",
       "      <td>299.898476</td>\n",
       "      <td>6.500000</td>\n",
       "    </tr>\n",
       "    <tr>\n",
       "      <th>75%</th>\n",
       "      <td>9.250000</td>\n",
       "      <td>2015.125000</td>\n",
       "      <td>1.312500e+07</td>\n",
       "      <td>3.522970e+07</td>\n",
       "      <td>8.241241e+07</td>\n",
       "      <td>390.501129</td>\n",
       "      <td>9.250000</td>\n",
       "    </tr>\n",
       "    <tr>\n",
       "      <th>max</th>\n",
       "      <td>12.000000</td>\n",
       "      <td>2016.000000</td>\n",
       "      <td>3.500000e+07</td>\n",
       "      <td>4.959554e+07</td>\n",
       "      <td>1.050150e+08</td>\n",
       "      <td>1112.211863</td>\n",
       "      <td>12.000000</td>\n",
       "    </tr>\n",
       "  </tbody>\n",
       "</table>\n",
       "</div>"
      ],
      "text/plain": [
       "           month  release_year  production_budget  domestic_gross  \\\n",
       "count  12.000000     12.000000       1.200000e+01    1.200000e+01   \n",
       "mean    6.500000   2014.375000       1.225000e+07    2.967463e+07   \n",
       "std     3.605551      1.130668       7.981513e+06    1.267051e+07   \n",
       "min     1.000000   2012.500000       5.000000e+06    6.810754e+06   \n",
       "25%     3.750000   2013.875000       9.000000e+06    2.127689e+07   \n",
       "50%     6.500000   2014.000000       1.050000e+07    3.137490e+07   \n",
       "75%     9.250000   2015.125000       1.312500e+07    3.522970e+07   \n",
       "max    12.000000   2016.000000       3.500000e+07    4.959554e+07   \n",
       "\n",
       "       worldwide_gross     ROI_perc   month_dt  \n",
       "count     1.200000e+01    12.000000  12.000000  \n",
       "mean      6.444484e+07   354.721341   6.500000  \n",
       "std       2.953579e+07   268.683956   3.605551  \n",
       "min       8.890094e+06    87.420720   1.000000  \n",
       "25%       4.609280e+07   215.755023   3.750000  \n",
       "50%       7.166126e+07   299.898476   6.500000  \n",
       "75%       8.241241e+07   390.501129   9.250000  \n",
       "max       1.050150e+08  1112.211863  12.000000  "
      ]
     },
     "metadata": {},
     "output_type": "display_data"
    },
    {
     "data": {
      "text/html": [
       "<div>\n",
       "<style scoped>\n",
       "    .dataframe tbody tr th:only-of-type {\n",
       "        vertical-align: middle;\n",
       "    }\n",
       "\n",
       "    .dataframe tbody tr th {\n",
       "        vertical-align: top;\n",
       "    }\n",
       "\n",
       "    .dataframe thead th {\n",
       "        text-align: right;\n",
       "    }\n",
       "</style>\n",
       "<table border=\"1\" class=\"dataframe\">\n",
       "  <thead>\n",
       "    <tr style=\"text-align: right;\">\n",
       "      <th></th>\n",
       "      <th>year</th>\n",
       "      <th>id</th>\n",
       "      <th>production_budget</th>\n",
       "      <th>domestic_gross</th>\n",
       "      <th>worldwide_gross</th>\n",
       "      <th>release_year</th>\n",
       "      <th>month_dt</th>\n",
       "      <th>month</th>\n",
       "      <th>dom_profit_margin</th>\n",
       "      <th>ww_profit_margin</th>\n",
       "      <th>world_wide_profit_amount</th>\n",
       "      <th>ROI_perc</th>\n",
       "    </tr>\n",
       "  </thead>\n",
       "  <tbody>\n",
       "    <tr>\n",
       "      <th>count</th>\n",
       "      <td>14.000000</td>\n",
       "      <td>14.000000</td>\n",
       "      <td>1.400000e+01</td>\n",
       "      <td>1.400000e+01</td>\n",
       "      <td>1.400000e+01</td>\n",
       "      <td>14.000000</td>\n",
       "      <td>14.000000</td>\n",
       "      <td>14.000000</td>\n",
       "      <td>14.000000</td>\n",
       "      <td>14.000000</td>\n",
       "      <td>1.400000e+01</td>\n",
       "      <td>14.000000</td>\n",
       "    </tr>\n",
       "    <tr>\n",
       "      <th>mean</th>\n",
       "      <td>2014.184938</td>\n",
       "      <td>49.006175</td>\n",
       "      <td>2.756587e+07</td>\n",
       "      <td>4.143936e+07</td>\n",
       "      <td>9.974835e+07</td>\n",
       "      <td>2014.184938</td>\n",
       "      <td>6.353598</td>\n",
       "      <td>6.353598</td>\n",
       "      <td>34.775649</td>\n",
       "      <td>66.245899</td>\n",
       "      <td>7.218248e+07</td>\n",
       "      <td>476.523624</td>\n",
       "    </tr>\n",
       "    <tr>\n",
       "      <th>std</th>\n",
       "      <td>2.424399</td>\n",
       "      <td>19.496003</td>\n",
       "      <td>3.708456e+07</td>\n",
       "      <td>4.761739e+07</td>\n",
       "      <td>1.369205e+08</td>\n",
       "      <td>2.424399</td>\n",
       "      <td>1.950358</td>\n",
       "      <td>1.950358</td>\n",
       "      <td>22.123616</td>\n",
       "      <td>13.546435</td>\n",
       "      <td>1.002492e+08</td>\n",
       "      <td>371.478565</td>\n",
       "    </tr>\n",
       "    <tr>\n",
       "      <th>min</th>\n",
       "      <td>2010.000000</td>\n",
       "      <td>3.000000</td>\n",
       "      <td>2.500000e+06</td>\n",
       "      <td>3.827060e+06</td>\n",
       "      <td>1.323772e+07</td>\n",
       "      <td>2010.000000</td>\n",
       "      <td>4.000000</td>\n",
       "      <td>4.000000</td>\n",
       "      <td>1.574618</td>\n",
       "      <td>46.833530</td>\n",
       "      <td>6.704317e+06</td>\n",
       "      <td>205.213397</td>\n",
       "    </tr>\n",
       "    <tr>\n",
       "      <th>25%</th>\n",
       "      <td>2012.120352</td>\n",
       "      <td>44.925000</td>\n",
       "      <td>3.875000e+06</td>\n",
       "      <td>9.457203e+06</td>\n",
       "      <td>1.593061e+07</td>\n",
       "      <td>2012.120352</td>\n",
       "      <td>5.045455</td>\n",
       "      <td>5.045455</td>\n",
       "      <td>19.559690</td>\n",
       "      <td>54.784204</td>\n",
       "      <td>1.235140e+07</td>\n",
       "      <td>243.356975</td>\n",
       "    </tr>\n",
       "    <tr>\n",
       "      <th>50%</th>\n",
       "      <td>2014.102564</td>\n",
       "      <td>52.815068</td>\n",
       "      <td>9.325000e+06</td>\n",
       "      <td>2.260992e+07</td>\n",
       "      <td>4.436142e+07</td>\n",
       "      <td>2014.102564</td>\n",
       "      <td>6.153846</td>\n",
       "      <td>6.153846</td>\n",
       "      <td>34.276450</td>\n",
       "      <td>67.147950</td>\n",
       "      <td>3.079324e+07</td>\n",
       "      <td>320.355018</td>\n",
       "    </tr>\n",
       "    <tr>\n",
       "      <th>75%</th>\n",
       "      <td>2016.375000</td>\n",
       "      <td>56.990909</td>\n",
       "      <td>3.841071e+07</td>\n",
       "      <td>6.946566e+07</td>\n",
       "      <td>1.260143e+08</td>\n",
       "      <td>2016.375000</td>\n",
       "      <td>6.925000</td>\n",
       "      <td>6.925000</td>\n",
       "      <td>50.476864</td>\n",
       "      <td>75.044508</td>\n",
       "      <td>8.760357e+07</td>\n",
       "      <td>555.441756</td>\n",
       "    </tr>\n",
       "    <tr>\n",
       "      <th>max</th>\n",
       "      <td>2017.500000</td>\n",
       "      <td>83.000000</td>\n",
       "      <td>1.334000e+08</td>\n",
       "      <td>1.682915e+08</td>\n",
       "      <td>5.078028e+08</td>\n",
       "      <td>2017.500000</td>\n",
       "      <td>12.000000</td>\n",
       "      <td>12.000000</td>\n",
       "      <td>68.518543</td>\n",
       "      <td>89.515856</td>\n",
       "      <td>3.744028e+08</td>\n",
       "      <td>1574.515218</td>\n",
       "    </tr>\n",
       "  </tbody>\n",
       "</table>\n",
       "</div>"
      ],
      "text/plain": [
       "              year         id  production_budget  domestic_gross  \\\n",
       "count    14.000000  14.000000       1.400000e+01    1.400000e+01   \n",
       "mean   2014.184938  49.006175       2.756587e+07    4.143936e+07   \n",
       "std       2.424399  19.496003       3.708456e+07    4.761739e+07   \n",
       "min    2010.000000   3.000000       2.500000e+06    3.827060e+06   \n",
       "25%    2012.120352  44.925000       3.875000e+06    9.457203e+06   \n",
       "50%    2014.102564  52.815068       9.325000e+06    2.260992e+07   \n",
       "75%    2016.375000  56.990909       3.841071e+07    6.946566e+07   \n",
       "max    2017.500000  83.000000       1.334000e+08    1.682915e+08   \n",
       "\n",
       "       worldwide_gross  release_year   month_dt      month  dom_profit_margin  \\\n",
       "count     1.400000e+01     14.000000  14.000000  14.000000          14.000000   \n",
       "mean      9.974835e+07   2014.184938   6.353598   6.353598          34.775649   \n",
       "std       1.369205e+08      2.424399   1.950358   1.950358          22.123616   \n",
       "min       1.323772e+07   2010.000000   4.000000   4.000000           1.574618   \n",
       "25%       1.593061e+07   2012.120352   5.045455   5.045455          19.559690   \n",
       "50%       4.436142e+07   2014.102564   6.153846   6.153846          34.276450   \n",
       "75%       1.260143e+08   2016.375000   6.925000   6.925000          50.476864   \n",
       "max       5.078028e+08   2017.500000  12.000000  12.000000          68.518543   \n",
       "\n",
       "       ww_profit_margin  world_wide_profit_amount     ROI_perc  \n",
       "count         14.000000              1.400000e+01    14.000000  \n",
       "mean          66.245899              7.218248e+07   476.523624  \n",
       "std           13.546435              1.002492e+08   371.478565  \n",
       "min           46.833530              6.704317e+06   205.213397  \n",
       "25%           54.784204              1.235140e+07   243.356975  \n",
       "50%           67.147950              3.079324e+07   320.355018  \n",
       "75%           75.044508              8.760357e+07   555.441756  \n",
       "max           89.515856              3.744028e+08  1574.515218  "
      ]
     },
     "metadata": {},
     "output_type": "display_data"
    },
    {
     "data": {
      "text/html": [
       "<div>\n",
       "<style scoped>\n",
       "    .dataframe tbody tr th:only-of-type {\n",
       "        vertical-align: middle;\n",
       "    }\n",
       "\n",
       "    .dataframe tbody tr th {\n",
       "        vertical-align: top;\n",
       "    }\n",
       "\n",
       "    .dataframe thead th {\n",
       "        text-align: right;\n",
       "    }\n",
       "</style>\n",
       "<table border=\"1\" class=\"dataframe\">\n",
       "  <thead>\n",
       "    <tr style=\"text-align: right;\">\n",
       "      <th></th>\n",
       "      <th>release_year</th>\n",
       "      <th>production_budget</th>\n",
       "      <th>domestic_gross</th>\n",
       "      <th>worldwide_gross</th>\n",
       "      <th>ROI_perc</th>\n",
       "      <th>month</th>\n",
       "      <th>month_dt</th>\n",
       "    </tr>\n",
       "  </thead>\n",
       "  <tbody>\n",
       "    <tr>\n",
       "      <th>count</th>\n",
       "      <td>4138.000000</td>\n",
       "      <td>4.138000e+03</td>\n",
       "      <td>4.138000e+03</td>\n",
       "      <td>4.138000e+03</td>\n",
       "      <td>4138.000000</td>\n",
       "      <td>4138.000000</td>\n",
       "      <td>4138.000000</td>\n",
       "    </tr>\n",
       "    <tr>\n",
       "      <th>mean</th>\n",
       "      <td>2013.831078</td>\n",
       "      <td>5.534669e+07</td>\n",
       "      <td>6.936900e+07</td>\n",
       "      <td>1.794672e+08</td>\n",
       "      <td>290.635152</td>\n",
       "      <td>7.044949</td>\n",
       "      <td>7.044949</td>\n",
       "    </tr>\n",
       "    <tr>\n",
       "      <th>std</th>\n",
       "      <td>2.728950</td>\n",
       "      <td>6.137537e+07</td>\n",
       "      <td>9.619419e+07</td>\n",
       "      <td>2.692222e+08</td>\n",
       "      <td>1084.418256</td>\n",
       "      <td>3.453326</td>\n",
       "      <td>3.453326</td>\n",
       "    </tr>\n",
       "    <tr>\n",
       "      <th>min</th>\n",
       "      <td>2001.000000</td>\n",
       "      <td>3.000000e+04</td>\n",
       "      <td>3.880000e+02</td>\n",
       "      <td>5.280000e+02</td>\n",
       "      <td>-99.896400</td>\n",
       "      <td>1.000000</td>\n",
       "      <td>1.000000</td>\n",
       "    </tr>\n",
       "    <tr>\n",
       "      <th>25%</th>\n",
       "      <td>2012.000000</td>\n",
       "      <td>1.180000e+07</td>\n",
       "      <td>8.574339e+06</td>\n",
       "      <td>1.819083e+07</td>\n",
       "      <td>12.138712</td>\n",
       "      <td>4.000000</td>\n",
       "      <td>4.000000</td>\n",
       "    </tr>\n",
       "    <tr>\n",
       "      <th>50%</th>\n",
       "      <td>2014.000000</td>\n",
       "      <td>3.175000e+07</td>\n",
       "      <td>3.560824e+07</td>\n",
       "      <td>7.496685e+07</td>\n",
       "      <td>134.604971</td>\n",
       "      <td>7.000000</td>\n",
       "      <td>7.000000</td>\n",
       "    </tr>\n",
       "    <tr>\n",
       "      <th>75%</th>\n",
       "      <td>2016.000000</td>\n",
       "      <td>7.900000e+07</td>\n",
       "      <td>8.506718e+07</td>\n",
       "      <td>2.165623e+08</td>\n",
       "      <td>312.646417</td>\n",
       "      <td>10.000000</td>\n",
       "      <td>10.000000</td>\n",
       "    </tr>\n",
       "    <tr>\n",
       "      <th>max</th>\n",
       "      <td>2019.000000</td>\n",
       "      <td>4.250000e+08</td>\n",
       "      <td>7.605076e+08</td>\n",
       "      <td>2.776345e+09</td>\n",
       "      <td>41556.474000</td>\n",
       "      <td>12.000000</td>\n",
       "      <td>12.000000</td>\n",
       "    </tr>\n",
       "  </tbody>\n",
       "</table>\n",
       "</div>"
      ],
      "text/plain": [
       "       release_year  production_budget  domestic_gross  worldwide_gross  \\\n",
       "count   4138.000000       4.138000e+03    4.138000e+03     4.138000e+03   \n",
       "mean    2013.831078       5.534669e+07    6.936900e+07     1.794672e+08   \n",
       "std        2.728950       6.137537e+07    9.619419e+07     2.692222e+08   \n",
       "min     2001.000000       3.000000e+04    3.880000e+02     5.280000e+02   \n",
       "25%     2012.000000       1.180000e+07    8.574339e+06     1.819083e+07   \n",
       "50%     2014.000000       3.175000e+07    3.560824e+07     7.496685e+07   \n",
       "75%     2016.000000       7.900000e+07    8.506718e+07     2.165623e+08   \n",
       "max     2019.000000       4.250000e+08    7.605076e+08     2.776345e+09   \n",
       "\n",
       "           ROI_perc        month     month_dt  \n",
       "count   4138.000000  4138.000000  4138.000000  \n",
       "mean     290.635152     7.044949     7.044949  \n",
       "std     1084.418256     3.453326     3.453326  \n",
       "min      -99.896400     1.000000     1.000000  \n",
       "25%       12.138712     4.000000     4.000000  \n",
       "50%      134.604971     7.000000     7.000000  \n",
       "75%      312.646417    10.000000    10.000000  \n",
       "max    41556.474000    12.000000    12.000000  "
      ]
     },
     "metadata": {},
     "output_type": "display_data"
    }
   ],
   "source": [
    "\n",
    "display(horror_month_df.describe())\n",
    "display(avg_studio.describe())\n",
    "display(genre_overall_clean.describe())"
   ]
  },
  {
   "cell_type": "code",
   "execution_count": null,
   "metadata": {},
   "outputs": [],
   "source": []
  }
 ],
 "metadata": {
  "kernelspec": {
   "display_name": "Python 3",
   "language": "python",
   "name": "python3"
  },
  "language_info": {
   "codemirror_mode": {
    "name": "ipython",
    "version": 3
   },
   "file_extension": ".py",
   "mimetype": "text/x-python",
   "name": "python",
   "nbconvert_exporter": "python",
   "pygments_lexer": "ipython3",
   "version": "3.8.5"
  }
 },
 "nbformat": 4,
 "nbformat_minor": 5
}
